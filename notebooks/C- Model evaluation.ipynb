{
 "cells": [
  {
   "cell_type": "markdown",
   "metadata": {},
   "source": [
    "# Model Evaluation\n",
    "\n",
    "The goal of this notebook is to evaluate the model to identify bot comments."
   ]
  },
  {
   "cell_type": "code",
   "execution_count": 1,
   "metadata": {},
   "outputs": [],
   "source": [
    "import pandas\n",
    "import numpy as np\n",
    "import sklearn\n",
    "\n",
    "import matplotlib\n",
    "import matplotlib.pyplot as plt\n",
    "import seaborn\n",
    "\n",
    "%matplotlib inline"
   ]
  },
  {
   "cell_type": "code",
   "execution_count": 2,
   "metadata": {},
   "outputs": [],
   "source": [
    "SEED = 12345\n",
    "\n",
    "FIG_SIZE = (8, 3)\n",
    "\n",
    "PALETTE = seaborn.color_palette()\n",
    "\n",
    "matplotlib.rcParams['figure.figsize'] = FIG_SIZE\n",
    "matplotlib.rcParams['legend.framealpha'] = 1\n",
    "matplotlib.rcParams['text.latex.preamble'] = r'\\usepackage{amsmath}'"
   ]
  },
  {
   "cell_type": "markdown",
   "metadata": {},
   "source": [
    "## Dataset\n",
    "\n",
    "We created a training and a test set in the the first notebook, here we will use the training set to train the model and test set to evaluate the mdoel on a unseen set of data."
   ]
  },
  {
   "cell_type": "code",
   "execution_count": 3,
   "metadata": {},
   "outputs": [],
   "source": [
    "df_training = pandas.read_csv('../data/df_training.csv.gz').drop('training',axis=1)\n",
    "df_test = pandas.read_csv('../data/df_test.csv.gz').drop('training',axis=1)"
   ]
  },
  {
   "cell_type": "code",
   "execution_count": 4,
   "metadata": {},
   "outputs": [
    {
     "data": {
      "text/html": [
       "<div>\n",
       "<style scoped>\n",
       "    .dataframe tbody tr th:only-of-type {\n",
       "        vertical-align: middle;\n",
       "    }\n",
       "\n",
       "    .dataframe tbody tr th {\n",
       "        vertical-align: top;\n",
       "    }\n",
       "\n",
       "    .dataframe thead th {\n",
       "        text-align: right;\n",
       "    }\n",
       "</style>\n",
       "<table border=\"1\" class=\"dataframe\">\n",
       "  <thead>\n",
       "    <tr style=\"text-align: right;\">\n",
       "      <th></th>\n",
       "      <th>commenter</th>\n",
       "      <th>comment</th>\n",
       "      <th>label</th>\n",
       "    </tr>\n",
       "  </thead>\n",
       "  <tbody>\n",
       "    <tr>\n",
       "      <th>5963</th>\n",
       "      <td>b'nqWR8UfegvOkyF4wVPhRMg=='</td>\n",
       "      <td>@odeer95 Just do:\\r\\n```\\r\\nnpm test\\r\\n```</td>\n",
       "      <td>0</td>\n",
       "    </tr>\n",
       "    <tr>\n",
       "      <th>9061</th>\n",
       "      <td>b'wRBuA0cPXoSMOOqC/Oqw6g=='</td>\n",
       "      <td>Please change name `api_server_client.go` to `...</td>\n",
       "      <td>0</td>\n",
       "    </tr>\n",
       "    <tr>\n",
       "      <th>3813</th>\n",
       "      <td>b'MoT7ah0NH60r4CutyhPChQ=='</td>\n",
       "      <td>There are several cases where Docker doesn't a...</td>\n",
       "      <td>1</td>\n",
       "    </tr>\n",
       "    <tr>\n",
       "      <th>7330</th>\n",
       "      <td>b'L6Upr6wX75DdJ3yFdg1KDw=='</td>\n",
       "      <td>Thanks again @floatW0lf</td>\n",
       "      <td>0</td>\n",
       "    </tr>\n",
       "    <tr>\n",
       "      <th>8363</th>\n",
       "      <td>b'ctsrvcuE18kTp3Uc/1/nbQ=='</td>\n",
       "      <td>Closes #113</td>\n",
       "      <td>0</td>\n",
       "    </tr>\n",
       "    <tr>\n",
       "      <th>5813</th>\n",
       "      <td>b'ctOc+cfw0rBOqYioNtCXZA=='</td>\n",
       "      <td>Arf, do you think I can re-create the release ...</td>\n",
       "      <td>0</td>\n",
       "    </tr>\n",
       "    <tr>\n",
       "      <th>9370</th>\n",
       "      <td>b'GNH7oIEmmch73L7425edSw=='</td>\n",
       "      <td>I think its something we can evaluate. Its an ...</td>\n",
       "      <td>0</td>\n",
       "    </tr>\n",
       "    <tr>\n",
       "      <th>1599</th>\n",
       "      <td>b'TkhhiZ2i88MGb6bQX4Sxqw=='</td>\n",
       "      <td>Congratulations, your PR was merged at 67c8ef8...</td>\n",
       "      <td>1</td>\n",
       "    </tr>\n",
       "    <tr>\n",
       "      <th>5553</th>\n",
       "      <td>b'45/YEaKXwT7uiL5i2z1YdA=='</td>\n",
       "      <td>@mcjazzyfunky I think the hooks and `.Children...</td>\n",
       "      <td>0</td>\n",
       "    </tr>\n",
       "    <tr>\n",
       "      <th>6181</th>\n",
       "      <td>b'iE4wRJxELUrNws3C1Zv5cQ=='</td>\n",
       "      <td>In some cases, the developer wants to add a ne...</td>\n",
       "      <td>0</td>\n",
       "    </tr>\n",
       "  </tbody>\n",
       "</table>\n",
       "</div>"
      ],
      "text/plain": [
       "                        commenter  \\\n",
       "5963  b'nqWR8UfegvOkyF4wVPhRMg=='   \n",
       "9061  b'wRBuA0cPXoSMOOqC/Oqw6g=='   \n",
       "3813  b'MoT7ah0NH60r4CutyhPChQ=='   \n",
       "7330  b'L6Upr6wX75DdJ3yFdg1KDw=='   \n",
       "8363  b'ctsrvcuE18kTp3Uc/1/nbQ=='   \n",
       "5813  b'ctOc+cfw0rBOqYioNtCXZA=='   \n",
       "9370  b'GNH7oIEmmch73L7425edSw=='   \n",
       "1599  b'TkhhiZ2i88MGb6bQX4Sxqw=='   \n",
       "5553  b'45/YEaKXwT7uiL5i2z1YdA=='   \n",
       "6181  b'iE4wRJxELUrNws3C1Zv5cQ=='   \n",
       "\n",
       "                                                comment  label  \n",
       "5963        @odeer95 Just do:\\r\\n```\\r\\nnpm test\\r\\n```      0  \n",
       "9061  Please change name `api_server_client.go` to `...      0  \n",
       "3813  There are several cases where Docker doesn't a...      1  \n",
       "7330                           Thanks again @floatW0lf       0  \n",
       "8363                                        Closes #113      0  \n",
       "5813  Arf, do you think I can re-create the release ...      0  \n",
       "9370  I think its something we can evaluate. Its an ...      0  \n",
       "1599  Congratulations, your PR was merged at 67c8ef8...      1  \n",
       "5553  @mcjazzyfunky I think the hooks and `.Children...      0  \n",
       "6181  In some cases, the developer wants to add a ne...      0  "
      ]
     },
     "execution_count": 4,
     "metadata": {},
     "output_type": "execute_result"
    }
   ],
   "source": [
    "df_training.sample(n=10, random_state=SEED)"
   ]
  },
  {
   "cell_type": "markdown",
   "metadata": {},
   "source": [
    "## Model Construction"
   ]
  },
  {
   "cell_type": "code",
   "execution_count": 5,
   "metadata": {},
   "outputs": [],
   "source": [
    "from sklearn.pipeline import Pipeline\n",
    "from sklearn.feature_extraction.text import CountVectorizer, TfidfTransformer\n",
    "from sklearn.naive_bayes import MultinomialNB\n",
    "\n",
    "preprocessing = [\n",
    "    ('vectorizer', CountVectorizer(ngram_range=(1, 2), min_df=1, max_df=1.0, max_features=None)),\n",
    "    ('tfidf', TfidfTransformer(use_idf=True)),\n",
    "]\n",
    "pipeline = Pipeline(\n",
    "    preprocessing + [\n",
    "        ('classifier', MultinomialNB(alpha=1.5,fit_prior=False))\n",
    "])"
   ]
  },
  {
   "cell_type": "code",
   "execution_count": 6,
   "metadata": {},
   "outputs": [
    {
     "data": {
      "text/plain": [
       "Pipeline(memory=None,\n",
       "         steps=[('vectorizer',\n",
       "                 CountVectorizer(analyzer='word', binary=False,\n",
       "                                 decode_error='strict',\n",
       "                                 dtype=<class 'numpy.int64'>, encoding='utf-8',\n",
       "                                 input='content', lowercase=True, max_df=1.0,\n",
       "                                 max_features=None, min_df=1,\n",
       "                                 ngram_range=(1, 2), preprocessor=None,\n",
       "                                 stop_words=None, strip_accents=None,\n",
       "                                 token_pattern='(?u)\\\\b\\\\w\\\\w+\\\\b',\n",
       "                                 tokenizer=None, vocabulary=None)),\n",
       "                ('tfidf',\n",
       "                 TfidfTransformer(norm='l2', smooth_idf=True,\n",
       "                                  sublinear_tf=False, use_idf=True)),\n",
       "                ('classifier',\n",
       "                 MultinomialNB(alpha=1.5, class_prior=None, fit_prior=False))],\n",
       "         verbose=False)"
      ]
     },
     "execution_count": 6,
     "metadata": {},
     "output_type": "execute_result"
    }
   ],
   "source": [
    "X_train, y_train = df_training.comment, df_training.label\n",
    "\n",
    "pipeline.fit(X_train, y_train)"
   ]
  },
  {
   "cell_type": "markdown",
   "metadata": {},
   "source": [
    "## Model evaluation"
   ]
  },
  {
   "cell_type": "code",
   "execution_count": 7,
   "metadata": {},
   "outputs": [],
   "source": [
    "X_test, y_test = df_test.comment, df_test.label\n",
    "\n",
    "y_pred = pipeline.predict(X_test)\n",
    "y_proba = pipeline.predict_proba(X_test)"
   ]
  },
  {
   "cell_type": "code",
   "execution_count": 8,
   "metadata": {},
   "outputs": [],
   "source": [
    "from sklearn.metrics import accuracy_score, precision_score, recall_score, f1_score, make_scorer\n",
    "\n",
    "scoring = {\n",
    "    'accuracy': make_scorer(accuracy_score),\n",
    "    'precision': make_scorer(precision_score, average='weighted'),\n",
    "    'recall': make_scorer(recall_score, average='weighted'),\n",
    "    'f1': make_scorer(f1_score, average='weighted'),\n",
    "    'precision_bot': make_scorer(precision_score, pos_label=1),\n",
    "    'recall_bot': make_scorer(recall_score, pos_label=1),\n",
    "    'f1_bot': make_scorer(f1_score, pos_label=1),\n",
    "    'precision_human': make_scorer(precision_score, pos_label=0),\n",
    "    'recall_human': make_scorer(recall_score, pos_label=0),\n",
    "    'f1_human': make_scorer(f1_score, pos_label=0),\n",
    "}\n",
    "results = {'test': dict()}\n",
    "\n",
    "for name, scorer in scoring.items():\n",
    "    results['test'][name] = scorer(pipeline, X_test, y_test)"
   ]
  },
  {
   "cell_type": "code",
   "execution_count": 9,
   "metadata": {},
   "outputs": [
    {
     "data": {
      "text/html": [
       "<div>\n",
       "<style scoped>\n",
       "    .dataframe tbody tr th:only-of-type {\n",
       "        vertical-align: middle;\n",
       "    }\n",
       "\n",
       "    .dataframe tbody tr th {\n",
       "        vertical-align: top;\n",
       "    }\n",
       "\n",
       "    .dataframe thead th {\n",
       "        text-align: right;\n",
       "    }\n",
       "</style>\n",
       "<table border=\"1\" class=\"dataframe\">\n",
       "  <thead>\n",
       "    <tr style=\"text-align: right;\">\n",
       "      <th></th>\n",
       "      <th>accuracy</th>\n",
       "      <th>f1</th>\n",
       "      <th>f1_bot</th>\n",
       "      <th>f1_human</th>\n",
       "      <th>precision</th>\n",
       "      <th>precision_bot</th>\n",
       "      <th>precision_human</th>\n",
       "      <th>recall</th>\n",
       "      <th>recall_bot</th>\n",
       "      <th>recall_human</th>\n",
       "    </tr>\n",
       "  </thead>\n",
       "  <tbody>\n",
       "    <tr>\n",
       "      <th>test</th>\n",
       "      <td>0.881674</td>\n",
       "      <td>0.881618</td>\n",
       "      <td>0.884181</td>\n",
       "      <td>0.879056</td>\n",
       "      <td>0.882405</td>\n",
       "      <td>0.865666</td>\n",
       "      <td>0.899138</td>\n",
       "      <td>0.881674</td>\n",
       "      <td>0.903505</td>\n",
       "      <td>0.859852</td>\n",
       "    </tr>\n",
       "  </tbody>\n",
       "</table>\n",
       "</div>"
      ],
      "text/plain": [
       "      accuracy        f1    f1_bot  f1_human  precision  precision_bot  \\\n",
       "test  0.881674  0.881618  0.884181  0.879056   0.882405       0.865666   \n",
       "\n",
       "      precision_human    recall  recall_bot  recall_human  \n",
       "test         0.899138  0.881674    0.903505      0.859852  "
      ]
     },
     "execution_count": 9,
     "metadata": {},
     "output_type": "execute_result"
    }
   ],
   "source": [
    "(\n",
    "    pandas.DataFrame.from_dict(results)\n",
    "    .T\n",
    ")"
   ]
  },
  {
   "cell_type": "code",
   "execution_count": 10,
   "metadata": {},
   "outputs": [],
   "source": [
    "dfprob = (\n",
    "    df_test\n",
    "    .assign(pred=y_pred)\n",
    "    .assign(probability=[i[0] for i in y_proba])\n",
    "    .assign(probability=lambda d:  1 - d['probability'])\n",
    ")\n",
    "dfprob.to_csv('../data/predictions.csv.gz', index=False, compression='gzip')"
   ]
  },
  {
   "cell_type": "code",
   "execution_count": 11,
   "metadata": {},
   "outputs": [
    {
     "data": {
      "image/png": "[encoded data removed]",
      "text/plain": [
       "<Figure size 360x158.4 with 1 Axes>"
      ]
     },
     "metadata": {
      "needs_background": "light"
     },
     "output_type": "display_data"
    }
   ],
   "source": [
    "import seaborn\n",
    "\n",
    "dftmp = (\n",
    "        dfprob\n",
    "        .assign(\n",
    "            bot = lambda x: np.where(x['label']==1,'bot','human'),\n",
    "            prediction = lambda x: np.where(x['pred']==1,'bot','human')\n",
    "        )\n",
    "    )\n",
    "\n",
    "fig, ax = plt.subplots(figsize=(5,2.2))\n",
    "plt.axvspan(.5, 1, facecolor='b', alpha=0.1)\n",
    "plt.axvspan(0, .5, facecolor='orange', alpha=0.1)\n",
    "\n",
    "ax = seaborn.boxenplot(\n",
    "    x='probability',\n",
    "    y='bot',\n",
    "    data=dftmp,\n",
    ")\n",
    "\n",
    "plt.text(0.27, 1.06,'prediction: human',\n",
    "     horizontalalignment='center',\n",
    "     verticalalignment='center',\n",
    "     transform = ax.transAxes)\n",
    "plt.text(0.73, 1.06,'prediction: bot',\n",
    "     horizontalalignment='center',\n",
    "     verticalalignment='center',\n",
    "     transform = ax.transAxes)\n",
    "\n",
    "ax.set_xlabel('probability of predictions')\n",
    "ax.set_ylabel('')\n",
    "ax.vlines(0.5, -0.5, 1.5, colors='r', alpha=0.2)\n",
    "fig.savefig('../figures/prediction.pdf',bbox_inches='tight')"
   ]
  },
  {
   "cell_type": "markdown",
   "metadata": {},
   "source": [
    "#### Median of predictions probability in each category"
   ]
  },
  {
   "cell_type": "code",
   "execution_count": 13,
   "metadata": {},
   "outputs": [
    {
     "data": {
      "text/html": [
       "<div>\n",
       "<style scoped>\n",
       "    .dataframe tbody tr th:only-of-type {\n",
       "        vertical-align: middle;\n",
       "    }\n",
       "\n",
       "    .dataframe tbody tr th {\n",
       "        vertical-align: top;\n",
       "    }\n",
       "\n",
       "    .dataframe thead th {\n",
       "        text-align: right;\n",
       "    }\n",
       "</style>\n",
       "<table border=\"1\" class=\"dataframe\">\n",
       "  <thead>\n",
       "    <tr style=\"text-align: right;\">\n",
       "      <th></th>\n",
       "      <th></th>\n",
       "      <th>probability</th>\n",
       "    </tr>\n",
       "    <tr>\n",
       "      <th>label</th>\n",
       "      <th>pred</th>\n",
       "      <th></th>\n",
       "    </tr>\n",
       "  </thead>\n",
       "  <tbody>\n",
       "    <tr>\n",
       "      <th rowspan=\"2\" valign=\"top\">Bot</th>\n",
       "      <th>Bot</th>\n",
       "      <td>0.967909</td>\n",
       "    </tr>\n",
       "    <tr>\n",
       "      <th>Human</th>\n",
       "      <td>0.368820</td>\n",
       "    </tr>\n",
       "    <tr>\n",
       "      <th rowspan=\"2\" valign=\"top\">Human</th>\n",
       "      <th>Bot</th>\n",
       "      <td>0.608859</td>\n",
       "    </tr>\n",
       "    <tr>\n",
       "      <th>Human</th>\n",
       "      <td>0.200649</td>\n",
       "    </tr>\n",
       "  </tbody>\n",
       "</table>\n",
       "</div>"
      ],
      "text/plain": [
       "             probability\n",
       "label pred              \n",
       "Bot   Bot       0.967909\n",
       "      Human     0.368820\n",
       "Human Bot       0.608859\n",
       "      Human     0.200649"
      ]
     },
     "execution_count": 13,
     "metadata": {},
     "output_type": "execute_result"
    }
   ],
   "source": [
    "(\n",
    "    dfprob\n",
    "    .assign(label = lambda x: np.where(x['label']==1,'Bot','Human'))\n",
    "    .assign(pred = lambda x: np.where(x['pred']==1,'Bot','Human'))\n",
    "    .groupby(['label','pred'])\n",
    "    .agg({'probability':'median'})\n",
    ")"
   ]
  }
 ],
 "metadata": {
  "kernelspec": {
   "display_name": "Python 3",
   "language": "python",
   "name": "python3"
  },
  "language_info": {
   "codemirror_mode": {
    "name": "ipython",
    "version": 3
   },
   "file_extension": ".py",
   "mimetype": "text/x-python",
   "name": "python",
   "nbconvert_exporter": "python",
   "pygments_lexer": "ipython3",
   "version": "3.8.5"
  }
 },
 "nbformat": 4,
 "nbformat_minor": 4
}

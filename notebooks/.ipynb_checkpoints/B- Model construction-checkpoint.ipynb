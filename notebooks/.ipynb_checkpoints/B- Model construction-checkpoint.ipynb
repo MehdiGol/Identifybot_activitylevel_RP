{
 "cells": [
  {
   "cell_type": "markdown",
   "metadata": {},
   "source": [
    "# Comment classification\n",
    "\n",
    "The goal of this notebook is to create a text classification model on comments, to distinguish comments made by bots from those made by humans. \n",
    "\n",
    "Let's first define a couple of imports. "
   ]
  },
  {
   "cell_type": "code",
   "execution_count": 389,
   "metadata": {},
   "outputs": [],
   "source": [
    "import pandas\n",
    "import numpy as np\n",
    "import sklearn\n",
    "\n",
    "import matplotlib\n",
    "import matplotlib.pyplot as plt\n",
    "import seaborn\n",
    "\n",
    "%matplotlib inline"
   ]
  },
  {
   "cell_type": "markdown",
   "metadata": {},
   "source": [
    "Since many parts of this notebook will rely on randomness, let's set an initial random state for replicability."
   ]
  },
  {
   "cell_type": "code",
   "execution_count": 390,
   "metadata": {},
   "outputs": [],
   "source": [
    "SEED = 12345\n",
    "\n",
    "FIG_SIZE = (8, 3)\n",
    "\n",
    "PALETTE = seaborn.color_palette()\n",
    "\n",
    "matplotlib.rcParams['figure.figsize'] = FIG_SIZE\n",
    "matplotlib.rcParams['legend.framealpha'] = 1\n",
    "matplotlib.rcParams['text.latex.preamble'] = r'\\usepackage{amsmath}'"
   ]
  },
  {
   "cell_type": "markdown",
   "metadata": {},
   "source": [
    "## Dataset\n",
    "\n",
    "We rely on a ground-truth dataset provided by Golzadeh et al. The dataset contains around 5,000 accounts that were manually identified as bots or humans by three raters. The rating application displayed the most recent comments made by each account, and a decision had to be made based on these comments. By default, and if there are enough comments, the 20 most recent ones are displayed. \n",
    "\n",
    "In their work, a label (bot or human) is attributed to each account based on these comments. Since our goal is to work at the granularity of the comments and not of the accounts, we asked them to send, for accounts that have at least 20 comments, the ones that were displayed to the raters. The idea is that since these comments were the basis to made a decision about these accounts, it is very likely that the comments belonging to a bot (resp. to a human) were made by a bot (resp. by a human). As such, and even if we know there are \"mixed cases\" in the dataset (i.e. cases where some comments where made by bots, and some other by humans), it is likely that this way of creating a new dataset is safer and less prone to noisy data. \n",
    "\n",
    "The resulting dataset contains 405 bots and 405 humans, along with their 20 most recent comments. "
   ]
  },
  {
   "cell_type": "code",
   "execution_count": 391,
   "metadata": {},
   "outputs": [],
   "source": [
    "df = (\n",
    "    pandas.read_csv('../../data-raw/all_accounts_comments.csv.gz')\n",
    "    .rename(columns={'class': 'label'})\n",
    "    # Empty comments shouldn't be converted to nan\n",
    "    .rename(columns={'account':'commenter','project':'repository'})\n",
    "    .dropna()\n",
    ")"
   ]
  },
  {
   "cell_type": "code",
   "execution_count": 392,
   "metadata": {},
   "outputs": [
    {
     "data": {
      "text/html": [
       "<div>\n",
       "<style scoped>\n",
       "    .dataframe tbody tr th:only-of-type {\n",
       "        vertical-align: middle;\n",
       "    }\n",
       "\n",
       "    .dataframe tbody tr th {\n",
       "        vertical-align: top;\n",
       "    }\n",
       "\n",
       "    .dataframe thead th {\n",
       "        text-align: right;\n",
       "    }\n",
       "</style>\n",
       "<table border=\"1\" class=\"dataframe\">\n",
       "  <thead>\n",
       "    <tr style=\"text-align: right;\">\n",
       "      <th></th>\n",
       "      <th>commenter</th>\n",
       "      <th>repository</th>\n",
       "      <th>comment</th>\n",
       "      <th>label</th>\n",
       "    </tr>\n",
       "  </thead>\n",
       "  <tbody>\n",
       "    <tr>\n",
       "      <th>244779</th>\n",
       "      <td>isuruf</td>\n",
       "      <td>symengine/symengine.py</td>\n",
       "      <td>Note that all symengine classes deriving from ...</td>\n",
       "      <td>0</td>\n",
       "    </tr>\n",
       "    <tr>\n",
       "      <th>57074</th>\n",
       "      <td>maxiwoj</td>\n",
       "      <td>Appliscale/perun</td>\n",
       "      <td>Could we minimize the number of errors saying,...</td>\n",
       "      <td>0</td>\n",
       "    </tr>\n",
       "    <tr>\n",
       "      <th>54013</th>\n",
       "      <td>jdsutherland</td>\n",
       "      <td>exercism/cli</td>\n",
       "      <td>Many tests call `ioutil.TempDir` but don't per...</td>\n",
       "      <td>0</td>\n",
       "    </tr>\n",
       "    <tr>\n",
       "      <th>200224</th>\n",
       "      <td>chrisfosterelli</td>\n",
       "      <td>chrisfosterelli/akismet-api</td>\n",
       "      <td>Thanks for the issue! I can definitely see the...</td>\n",
       "      <td>0</td>\n",
       "    </tr>\n",
       "    <tr>\n",
       "      <th>96846</th>\n",
       "      <td>darenju</td>\n",
       "      <td>darenju/react-flip-page</td>\n",
       "      <td>Hello,\\r\\n\\r\\nThis problem has already been re...</td>\n",
       "      <td>0</td>\n",
       "    </tr>\n",
       "    <tr>\n",
       "      <th>85585</th>\n",
       "      <td>holgerd77</td>\n",
       "      <td>ethereumjs/ethereumjs-wallet</td>\n",
       "      <td>Follow-up note: with a new release version bum...</td>\n",
       "      <td>0</td>\n",
       "    </tr>\n",
       "    <tr>\n",
       "      <th>280676</th>\n",
       "      <td>TDSBot</td>\n",
       "      <td>telus/tds-community</td>\n",
       "      <td>```\\nPackages pending updates:\\n\\n- @tds/commu...</td>\n",
       "      <td>1</td>\n",
       "    </tr>\n",
       "    <tr>\n",
       "      <th>245627</th>\n",
       "      <td>targos</td>\n",
       "      <td>NPellet/jsGraph</td>\n",
       "      <td>FYI, it is needed for the spectra displayer (h...</td>\n",
       "      <td>0</td>\n",
       "    </tr>\n",
       "    <tr>\n",
       "      <th>282640</th>\n",
       "      <td>uias-bot</td>\n",
       "      <td>uias/Pageboy</td>\n",
       "      <td>&lt;!--\\n  0 Errors\\n  1 Warning: Looks like you ...</td>\n",
       "      <td>1</td>\n",
       "    </tr>\n",
       "    <tr>\n",
       "      <th>114785</th>\n",
       "      <td>thepag</td>\n",
       "      <td>jplayer/jPlayer</td>\n",
       "      <td>So you spam changing the media SRC and the bro...</td>\n",
       "      <td>0</td>\n",
       "    </tr>\n",
       "  </tbody>\n",
       "</table>\n",
       "</div>"
      ],
      "text/plain": [
       "              commenter                    repository  \\\n",
       "244779           isuruf        symengine/symengine.py   \n",
       "57074           maxiwoj              Appliscale/perun   \n",
       "54013      jdsutherland                  exercism/cli   \n",
       "200224  chrisfosterelli   chrisfosterelli/akismet-api   \n",
       "96846           darenju       darenju/react-flip-page   \n",
       "85585         holgerd77  ethereumjs/ethereumjs-wallet   \n",
       "280676           TDSBot           telus/tds-community   \n",
       "245627           targos               NPellet/jsGraph   \n",
       "282640         uias-bot                  uias/Pageboy   \n",
       "114785           thepag               jplayer/jPlayer   \n",
       "\n",
       "                                                  comment  label  \n",
       "244779  Note that all symengine classes deriving from ...      0  \n",
       "57074   Could we minimize the number of errors saying,...      0  \n",
       "54013   Many tests call `ioutil.TempDir` but don't per...      0  \n",
       "200224  Thanks for the issue! I can definitely see the...      0  \n",
       "96846   Hello,\\r\\n\\r\\nThis problem has already been re...      0  \n",
       "85585   Follow-up note: with a new release version bum...      0  \n",
       "280676  ```\\nPackages pending updates:\\n\\n- @tds/commu...      1  \n",
       "245627  FYI, it is needed for the spectra displayer (h...      0  \n",
       "282640  <!--\\n  0 Errors\\n  1 Warning: Looks like you ...      1  \n",
       "114785  So you spam changing the media SRC and the bro...      0  "
      ]
     },
     "execution_count": 392,
     "metadata": {},
     "output_type": "execute_result"
    }
   ],
   "source": [
    "df.sample(n=10, random_state=SEED)"
   ]
  },
  {
   "cell_type": "code",
   "execution_count": 393,
   "metadata": {},
   "outputs": [],
   "source": [
    "botcms = df[lambda x: x['label']==1].groupby(['commenter','repository']).head(20).sample(frac=1,random_state=SEED)\n",
    "# botcms.to_csv('botcms.csv.gz')"
   ]
  },
  {
   "cell_type": "code",
   "execution_count": 394,
   "metadata": {},
   "outputs": [
    {
     "data": {
      "text/html": [
       "<div>\n",
       "<style scoped>\n",
       "    .dataframe tbody tr th:only-of-type {\n",
       "        vertical-align: middle;\n",
       "    }\n",
       "\n",
       "    .dataframe tbody tr th {\n",
       "        vertical-align: top;\n",
       "    }\n",
       "\n",
       "    .dataframe thead th {\n",
       "        text-align: right;\n",
       "    }\n",
       "</style>\n",
       "<table border=\"1\" class=\"dataframe\">\n",
       "  <thead>\n",
       "    <tr style=\"text-align: right;\">\n",
       "      <th></th>\n",
       "      <th>commenter</th>\n",
       "      <th>repository</th>\n",
       "      <th>comment</th>\n",
       "      <th>label</th>\n",
       "    </tr>\n",
       "  </thead>\n",
       "  <tbody>\n",
       "    <tr>\n",
       "      <th>296430</th>\n",
       "      <td>google-oss-bot</td>\n",
       "      <td>firebase/firebase-ios-sdk</td>\n",
       "      <td>&lt;!--\\n  0 Errors\\n  1 Warning: Did you forget ...</td>\n",
       "      <td>1</td>\n",
       "    </tr>\n",
       "    <tr>\n",
       "      <th>280886</th>\n",
       "      <td>qiwibot</td>\n",
       "      <td>qiwi/substrate</td>\n",
       "      <td>:tada: This issue has been resolved in version...</td>\n",
       "      <td>1</td>\n",
       "    </tr>\n",
       "    <tr>\n",
       "      <th>299542</th>\n",
       "      <td>athenabot</td>\n",
       "      <td>kubernetes/kubernetes</td>\n",
       "      <td>/sig network\\n\\nThese SIGs are my best guesses...</td>\n",
       "      <td>1</td>\n",
       "    </tr>\n",
       "    <tr>\n",
       "      <th>297034</th>\n",
       "      <td>moonwalker-bot</td>\n",
       "      <td>moonwalker/orbit</td>\n",
       "      <td>This PR contains the following updates:\\n\\n| P...</td>\n",
       "      <td>1</td>\n",
       "    </tr>\n",
       "    <tr>\n",
       "      <th>294807</th>\n",
       "      <td>explosion-bot</td>\n",
       "      <td>explosion/spaCy</td>\n",
       "      <td>Hi @nlptechbook, thanks for your pull request!...</td>\n",
       "      <td>1</td>\n",
       "    </tr>\n",
       "    <tr>\n",
       "      <th>...</th>\n",
       "      <td>...</td>\n",
       "      <td>...</td>\n",
       "      <td>...</td>\n",
       "      <td>...</td>\n",
       "    </tr>\n",
       "    <tr>\n",
       "      <th>286522</th>\n",
       "      <td>capistrano-bot</td>\n",
       "      <td>capistrano/capistrano</td>\n",
       "      <td>&lt;!--\\n  0 Errors\\n  1 Warning: Please update C...</td>\n",
       "      <td>1</td>\n",
       "    </tr>\n",
       "    <tr>\n",
       "      <th>285162</th>\n",
       "      <td>theforeman-bot</td>\n",
       "      <td>theforeman/smart_proxy_dynflow</td>\n",
       "      <td>@adamruzicka, the Redmine ticket used is for a...</td>\n",
       "      <td>1</td>\n",
       "    </tr>\n",
       "    <tr>\n",
       "      <th>283012</th>\n",
       "      <td>kyma-bot</td>\n",
       "      <td>kyma-incubator/varkes</td>\n",
       "      <td>@atakanyenel: The following test **failed**, s...</td>\n",
       "      <td>1</td>\n",
       "    </tr>\n",
       "    <tr>\n",
       "      <th>278417</th>\n",
       "      <td>sailsbot</td>\n",
       "      <td>balderdashy/sails</td>\n",
       "      <td>@danny1105 Thanks for posting!  We'll take a l...</td>\n",
       "      <td>1</td>\n",
       "    </tr>\n",
       "    <tr>\n",
       "      <th>286822</th>\n",
       "      <td>dangerpr-bot</td>\n",
       "      <td>codegram/hyperclient</td>\n",
       "      <td>&lt;!--\\n  0 Errors\\n  1 Warning: Unless you’re r...</td>\n",
       "      <td>1</td>\n",
       "    </tr>\n",
       "  </tbody>\n",
       "</table>\n",
       "<p>9641 rows × 4 columns</p>\n",
       "</div>"
      ],
      "text/plain": [
       "             commenter                      repository  \\\n",
       "296430  google-oss-bot       firebase/firebase-ios-sdk   \n",
       "280886         qiwibot                  qiwi/substrate   \n",
       "299542       athenabot           kubernetes/kubernetes   \n",
       "297034  moonwalker-bot                moonwalker/orbit   \n",
       "294807   explosion-bot                 explosion/spaCy   \n",
       "...                ...                             ...   \n",
       "286522  capistrano-bot           capistrano/capistrano   \n",
       "285162  theforeman-bot  theforeman/smart_proxy_dynflow   \n",
       "283012        kyma-bot           kyma-incubator/varkes   \n",
       "278417        sailsbot               balderdashy/sails   \n",
       "286822    dangerpr-bot            codegram/hyperclient   \n",
       "\n",
       "                                                  comment  label  \n",
       "296430  <!--\\n  0 Errors\\n  1 Warning: Did you forget ...      1  \n",
       "280886  :tada: This issue has been resolved in version...      1  \n",
       "299542  /sig network\\n\\nThese SIGs are my best guesses...      1  \n",
       "297034  This PR contains the following updates:\\n\\n| P...      1  \n",
       "294807  Hi @nlptechbook, thanks for your pull request!...      1  \n",
       "...                                                   ...    ...  \n",
       "286522  <!--\\n  0 Errors\\n  1 Warning: Please update C...      1  \n",
       "285162  @adamruzicka, the Redmine ticket used is for a...      1  \n",
       "283012  @atakanyenel: The following test **failed**, s...      1  \n",
       "278417  @danny1105 Thanks for posting!  We'll take a l...      1  \n",
       "286822  <!--\\n  0 Errors\\n  1 Warning: Unless you’re r...      1  \n",
       "\n",
       "[9641 rows x 4 columns]"
      ]
     },
     "execution_count": 394,
     "metadata": {},
     "output_type": "execute_result"
    }
   ],
   "source": [
    "botcms"
   ]
  },
  {
   "cell_type": "code",
   "execution_count": 395,
   "metadata": {},
   "outputs": [],
   "source": [
    "humancms = (\n",
    "    df\n",
    "    [lambda x: x['label']==0]\n",
    "    [lambda x: ~x['comment'].isin(botcms.comment)]\n",
    "    .groupby(['commenter','repository'])\n",
    "    .head(20)\n",
    "    .sample(frac=1,random_state=SEED)\n",
    "    .head(len(botcms))\n",
    ")\n",
    "# humancms.to_csv('bhumancms.cvs.gz')"
   ]
  },
  {
   "cell_type": "code",
   "execution_count": 400,
   "metadata": {},
   "outputs": [],
   "source": [
    "df = pandas.concat([botcms,humancms]).reset_index()\n",
    "df = df.assign(label=lambda x:np.where(x['label']==1,'Bot','Human'))\n",
    "df[['comment','label']].to_csv('../../data-raw/comments.csv.gz',index=False)"
   ]
  },
  {
   "cell_type": "code",
   "execution_count": 83,
   "metadata": {},
   "outputs": [],
   "source": [
    "df = (\n",
    "    df\n",
    "    .assign(training=lambda d: d['commenter'].isin(\n",
    "        df\n",
    "        # Group per class\n",
    "        .groupby('label', as_index=False, sort=False)\n",
    "        .apply(lambda g: \n",
    "            g\n",
    "            .drop_duplicates('commenter')\n",
    "            .sample(frac=0.5, random_state=SEED)\n",
    "            .commenter\n",
    "        )\n",
    "    ))\n",
    ")"
   ]
  },
  {
   "cell_type": "code",
   "execution_count": 312,
   "metadata": {},
   "outputs": [
    {
     "data": {
      "text/html": [
       "<div>\n",
       "<style scoped>\n",
       "    .dataframe tbody tr th:only-of-type {\n",
       "        vertical-align: middle;\n",
       "    }\n",
       "\n",
       "    .dataframe tbody tr th {\n",
       "        vertical-align: top;\n",
       "    }\n",
       "\n",
       "    .dataframe thead th {\n",
       "        text-align: right;\n",
       "    }\n",
       "</style>\n",
       "<table border=\"1\" class=\"dataframe\">\n",
       "  <thead>\n",
       "    <tr style=\"text-align: right;\">\n",
       "      <th></th>\n",
       "      <th>comment</th>\n",
       "      <th>coomenter</th>\n",
       "    </tr>\n",
       "    <tr>\n",
       "      <th>label</th>\n",
       "      <th></th>\n",
       "      <th></th>\n",
       "    </tr>\n",
       "  </thead>\n",
       "  <tbody>\n",
       "    <tr>\n",
       "      <th>0</th>\n",
       "      <td>9641</td>\n",
       "      <td>4090</td>\n",
       "    </tr>\n",
       "    <tr>\n",
       "      <th>1</th>\n",
       "      <td>9641</td>\n",
       "      <td>519</td>\n",
       "    </tr>\n",
       "  </tbody>\n",
       "</table>\n",
       "</div>"
      ],
      "text/plain": [
       "       comment  coomenter\n",
       "label                    \n",
       "0         9641       4090\n",
       "1         9641        519"
      ]
     },
     "execution_count": 312,
     "metadata": {},
     "output_type": "execute_result"
    }
   ],
   "source": [
    "(\n",
    "    df\n",
    "    .assign(coomenter= lambda x: x.apply(lambda x: x['commenter']+x['repository'],axis=1))\n",
    "    .groupby(['label'])\n",
    "    .agg({'comment':'count','coomenter':'nunique'})\n",
    ")"
   ]
  },
  {
   "cell_type": "code",
   "execution_count": 85,
   "metadata": {},
   "outputs": [],
   "source": [
    "# dsold = pandas.read_csv('oldselectionfortest.csv.gz')\n",
    "# dsoldtrain = dsold[dsold['training']]\n",
    "# dsoldtest = dsold[~dsold['training']]\n",
    "\n",
    "# print('Number of humans present in both training sets')\n",
    "# print(dsoldtrain[lambda x: x['commenter'].isin(dstrain.commenter)][lambda x: x['label']==0].commenter.nunique())\n",
    "# print('Number of humans present in both test sets')\n",
    "# print(dsoldtest[lambda x: x['commenter'].isin(dstest.commenter)][lambda x: x['label']==0].commenter.nunique())\n",
    "# print('Number of bots present in both training sets')\n",
    "# print(dsoldtrain[lambda x: x['commenter'].isin(dstrain.commenter)][lambda x: x['label']==1].commenter.nunique())\n",
    "# print('Number of bots present in both test sets')\n",
    "# print(dsoldtest[lambda x: x['commenter'].isin(dstest.commenter)][lambda x: x['label']==1].commenter.nunique())"
   ]
  },
  {
   "cell_type": "code",
   "execution_count": 100,
   "metadata": {},
   "outputs": [
    {
     "data": {
      "text/html": [
       "<div>\n",
       "<style scoped>\n",
       "    .dataframe tbody tr th:only-of-type {\n",
       "        vertical-align: middle;\n",
       "    }\n",
       "\n",
       "    .dataframe tbody tr th {\n",
       "        vertical-align: top;\n",
       "    }\n",
       "\n",
       "    .dataframe thead th {\n",
       "        text-align: right;\n",
       "    }\n",
       "</style>\n",
       "<table border=\"1\" class=\"dataframe\">\n",
       "  <thead>\n",
       "    <tr style=\"text-align: right;\">\n",
       "      <th></th>\n",
       "      <th>index</th>\n",
       "      <th>commenter</th>\n",
       "      <th>repository</th>\n",
       "      <th>comment</th>\n",
       "      <th>label</th>\n",
       "      <th>training</th>\n",
       "      <th>wrds</th>\n",
       "    </tr>\n",
       "  </thead>\n",
       "  <tbody>\n",
       "    <tr>\n",
       "      <th>0</th>\n",
       "      <td>296430</td>\n",
       "      <td>google-oss-bot</td>\n",
       "      <td>firebase/firebase-ios-sdk</td>\n",
       "      <td>&lt;!--\\n  0 Errors\\n  1 Warning: Did you forget ...</td>\n",
       "      <td>1</td>\n",
       "      <td>False</td>\n",
       "      <td>[&lt;!--\\n, , 0, Errors\\n, , 1, Warning:, Did, yo...</td>\n",
       "    </tr>\n",
       "    <tr>\n",
       "      <th>1</th>\n",
       "      <td>280886</td>\n",
       "      <td>qiwibot</td>\n",
       "      <td>qiwi/substrate</td>\n",
       "      <td>:tada: This issue has been resolved in version...</td>\n",
       "      <td>1</td>\n",
       "      <td>False</td>\n",
       "      <td>[:tada:, This, issue, has, been, resolved, in,...</td>\n",
       "    </tr>\n",
       "    <tr>\n",
       "      <th>2</th>\n",
       "      <td>299542</td>\n",
       "      <td>athenabot</td>\n",
       "      <td>kubernetes/kubernetes</td>\n",
       "      <td>/sig network\\n\\nThese SIGs are my best guesses...</td>\n",
       "      <td>1</td>\n",
       "      <td>False</td>\n",
       "      <td>[/sig, network\\n\\nThese, SIGs, are, my, best, ...</td>\n",
       "    </tr>\n",
       "    <tr>\n",
       "      <th>3</th>\n",
       "      <td>297034</td>\n",
       "      <td>moonwalker-bot</td>\n",
       "      <td>moonwalker/orbit</td>\n",
       "      <td>This PR contains the following updates:\\n\\n| P...</td>\n",
       "      <td>1</td>\n",
       "      <td>True</td>\n",
       "      <td>[This, PR, contains, the, following, updates:\\...</td>\n",
       "    </tr>\n",
       "    <tr>\n",
       "      <th>4</th>\n",
       "      <td>294807</td>\n",
       "      <td>explosion-bot</td>\n",
       "      <td>explosion/spaCy</td>\n",
       "      <td>Hi @nlptechbook, thanks for your pull request!...</td>\n",
       "      <td>1</td>\n",
       "      <td>True</td>\n",
       "      <td>[Hi, @nlptechbook,, thanks, for, your, pull, r...</td>\n",
       "    </tr>\n",
       "    <tr>\n",
       "      <th>...</th>\n",
       "      <td>...</td>\n",
       "      <td>...</td>\n",
       "      <td>...</td>\n",
       "      <td>...</td>\n",
       "      <td>...</td>\n",
       "      <td>...</td>\n",
       "      <td>...</td>\n",
       "    </tr>\n",
       "    <tr>\n",
       "      <th>19277</th>\n",
       "      <td>58826</td>\n",
       "      <td>calum-chamberlain</td>\n",
       "      <td>eqcorrscan/EQcorrscan</td>\n",
       "      <td>That does seem like the correct interpretation...</td>\n",
       "      <td>0</td>\n",
       "      <td>True</td>\n",
       "      <td>[That, does, seem, like, the, correct, interpr...</td>\n",
       "    </tr>\n",
       "    <tr>\n",
       "      <th>19278</th>\n",
       "      <td>110257</td>\n",
       "      <td>webbcam</td>\n",
       "      <td>webbcam/tiflash</td>\n",
       "      <td>TIFlash fails to launch JS script when the Pyt...</td>\n",
       "      <td>0</td>\n",
       "      <td>True</td>\n",
       "      <td>[TIFlash, fails, to, launch, JS, script, when,...</td>\n",
       "    </tr>\n",
       "    <tr>\n",
       "      <th>19279</th>\n",
       "      <td>175915</td>\n",
       "      <td>jskelcy</td>\n",
       "      <td>m3db/m3ctl</td>\n",
       "      <td>Updated this PR with a different approach. I h...</td>\n",
       "      <td>0</td>\n",
       "      <td>False</td>\n",
       "      <td>[Updated, this, PR, with, a, different, approa...</td>\n",
       "    </tr>\n",
       "    <tr>\n",
       "      <th>19280</th>\n",
       "      <td>191919</td>\n",
       "      <td>pmclanahan</td>\n",
       "      <td>mozilla/django-product-details</td>\n",
       "      <td>Product version data in the files are interdep...</td>\n",
       "      <td>0</td>\n",
       "      <td>False</td>\n",
       "      <td>[Product, version, data, in, the, files, are, ...</td>\n",
       "    </tr>\n",
       "    <tr>\n",
       "      <th>19281</th>\n",
       "      <td>258589</td>\n",
       "      <td>ConnorRigby</td>\n",
       "      <td>elixir-sqlite/sqlitex</td>\n",
       "      <td>@MichaelBaker Sorry to do this, but could you ...</td>\n",
       "      <td>0</td>\n",
       "      <td>False</td>\n",
       "      <td>[@MichaelBaker, Sorry, to, do, this,, but, cou...</td>\n",
       "    </tr>\n",
       "  </tbody>\n",
       "</table>\n",
       "<p>19282 rows × 7 columns</p>\n",
       "</div>"
      ],
      "text/plain": [
       "        index          commenter                      repository  \\\n",
       "0      296430     google-oss-bot       firebase/firebase-ios-sdk   \n",
       "1      280886            qiwibot                  qiwi/substrate   \n",
       "2      299542          athenabot           kubernetes/kubernetes   \n",
       "3      297034     moonwalker-bot                moonwalker/orbit   \n",
       "4      294807      explosion-bot                 explosion/spaCy   \n",
       "...       ...                ...                             ...   \n",
       "19277   58826  calum-chamberlain           eqcorrscan/EQcorrscan   \n",
       "19278  110257            webbcam                 webbcam/tiflash   \n",
       "19279  175915            jskelcy                      m3db/m3ctl   \n",
       "19280  191919         pmclanahan  mozilla/django-product-details   \n",
       "19281  258589        ConnorRigby           elixir-sqlite/sqlitex   \n",
       "\n",
       "                                                 comment  label  training  \\\n",
       "0      <!--\\n  0 Errors\\n  1 Warning: Did you forget ...      1     False   \n",
       "1      :tada: This issue has been resolved in version...      1     False   \n",
       "2      /sig network\\n\\nThese SIGs are my best guesses...      1     False   \n",
       "3      This PR contains the following updates:\\n\\n| P...      1      True   \n",
       "4      Hi @nlptechbook, thanks for your pull request!...      1      True   \n",
       "...                                                  ...    ...       ...   \n",
       "19277  That does seem like the correct interpretation...      0      True   \n",
       "19278  TIFlash fails to launch JS script when the Pyt...      0      True   \n",
       "19279  Updated this PR with a different approach. I h...      0     False   \n",
       "19280  Product version data in the files are interdep...      0     False   \n",
       "19281  @MichaelBaker Sorry to do this, but could you ...      0     False   \n",
       "\n",
       "                                                    wrds  \n",
       "0      [<!--\\n, , 0, Errors\\n, , 1, Warning:, Did, yo...  \n",
       "1      [:tada:, This, issue, has, been, resolved, in,...  \n",
       "2      [/sig, network\\n\\nThese, SIGs, are, my, best, ...  \n",
       "3      [This, PR, contains, the, following, updates:\\...  \n",
       "4      [Hi, @nlptechbook,, thanks, for, your, pull, r...  \n",
       "...                                                  ...  \n",
       "19277  [That, does, seem, like, the, correct, interpr...  \n",
       "19278  [TIFlash, fails, to, launch, JS, script, when,...  \n",
       "19279  [Updated, this, PR, with, a, different, approa...  \n",
       "19280  [Product, version, data, in, the, files, are, ...  \n",
       "19281  [@MichaelBaker, Sorry, to, do, this,, but, cou...  \n",
       "\n",
       "[19282 rows x 7 columns]"
      ]
     },
     "execution_count": 100,
     "metadata": {},
     "output_type": "execute_result"
    }
   ],
   "source": [
    "df.assign(wrds = lambda x: x['comment'].str.split(' '))"
   ]
  },
  {
   "cell_type": "markdown",
   "metadata": {},
   "source": [
    "## Pre-processing\n",
    "\n",
    "Our goal being to classify comments based on their content, we need an appropriate representation for these comments. For text classification, it is quite usual to vectorize the words of a text, and to store their frequency. Since some words are more frequent than other ones, we will apply TF-IDF as well. However, TF-IDF requires to compute the term frequency of the corpus, and as such, it has to be part of the learning pipeline.\n",
    "\n",
    "We won't do any lemmatization, since (1) we can have multiple languages in our dataset and (2) it has been shown to be of little interest in text classification (Toman, M., Tesar, R., & Jezek, K. (2006). Influence of word normalization on text classification. Proceedings of InSciT, 4, 354-358)."
   ]
  },
  {
   "cell_type": "code",
   "execution_count": 86,
   "metadata": {},
   "outputs": [],
   "source": [
    "from sklearn.pipeline import Pipeline\n",
    "from sklearn.feature_extraction.text import CountVectorizer, TfidfTransformer"
   ]
  },
  {
   "cell_type": "markdown",
   "metadata": {},
   "source": [
    "The `CountVectorizer` of `sklearn` has many different parameters that can be used to limit the number of extracted features. This includes bounds on the term frequency, as well as an absolute number of features. Most of the time, these parameters are used to prevent the model to overfit the training set. We'll use these parameters mainly to remove words that are too frequent, and words that are too infrequent. We'll do a hyper-parameter grid search to find *good* values for these parameters. "
   ]
  },
  {
   "cell_type": "code",
   "execution_count": 87,
   "metadata": {},
   "outputs": [],
   "source": [
    "preprocessing = [\n",
    "    ('vectorizer', CountVectorizer()),\n",
    "    ('tfidf', TfidfTransformer())\n",
    "]\n",
    "\n",
    "preprocessing_params = {\n",
    "    'vectorizer__ngram_range': [(1, 1), (1, 2)],\n",
    "    'vectorizer__min_df': [1, 2, 5], \n",
    "    'vectorizer__max_df': [1.0, 0.5, 0.1],\n",
    "    'vectorizer__max_features': [None, 500, 2500],\n",
    "    \n",
    "    'tfidf__use_idf': [True, False],\n",
    "}"
   ]
  },
  {
   "cell_type": "markdown",
   "metadata": {},
   "source": [
    "There are many text classifiers, and we'll test a few of them, including kNN, SVM and NaiveBayes.\n",
    "\n",
    "We also add ZeroR as a baseline."
   ]
  },
  {
   "cell_type": "code",
   "execution_count": 88,
   "metadata": {},
   "outputs": [],
   "source": [
    "from sklearn.naive_bayes import MultinomialNB\n",
    "from sklearn.neighbors import KNeighborsClassifier\n",
    "# from sklearn.svm import LinearSVC\n",
    "from sklearn.linear_model import SGDClassifier\n",
    "from sklearn import svm\n",
    "from sklearn.dummy import DummyClassifier\n",
    "from sklearn.ensemble import RandomForestClassifier\n",
    "from sklearn import svm\n",
    "\n",
    "classifiers = {\n",
    "    'linear_svc': svm.SVC(random_state=SEED),\n",
    "    'multinomial_nb': MultinomialNB(), \n",
    "    'knn': KNeighborsClassifier(),\n",
    "    'rndfrst':RandomForestClassifier(random_state=SEED),\n",
    "    'zeror': DummyClassifier(strategy='most_frequent'),\n",
    "}"
   ]
  },
  {
   "cell_type": "markdown",
   "metadata": {},
   "source": [
    "Of course, these classifiers also have parameters that could be tuned for the analysis. We won't test them now, since our goal at this stage is mainly to find the parameters we'll use to preprocess the data."
   ]
  },
  {
   "cell_type": "code",
   "execution_count": 89,
   "metadata": {},
   "outputs": [],
   "source": [
    "classifier_params = {\n",
    "\n",
    "#     'linear_svc__alpha': [0.0001, 0.001, 0.01], \n",
    "    'linear_svc__kernel': ['linear','poly','rbf', 'sigmoid'], \n",
    "    \n",
    "    'multinomial_nb__alpha': [0.5, 1.0, 1.5],\n",
    "    'multinomial_nb__fit_prior': [True, False],\n",
    "    \n",
    "    'rndfrst__n_estimators': [10, 100, 200],\n",
    "    'rndfrst__criterion':['gini', 'entropy'],\n",
    "    'rndfrst__max_depth':[4,6,8],\n",
    "    \n",
    "    'knn__leaf_size': [5, 15, 30], \n",
    "    'knn__n_neighbors': [1, 3, 5], \n",
    "}"
   ]
  },
  {
   "cell_type": "markdown",
   "metadata": {},
   "source": [
    "Since we have many different possible combinations of classifiers and parameters, and since it is not possible to test all of them (that would be very time-consuming), we first evaluate each classifier using the \"default values\". Then we'll do hyper-parameter optimization for the preprocessing on the selected classifier.\n",
    "\n",
    "Let's first define some scoring functions."
   ]
  },
  {
   "cell_type": "code",
   "execution_count": 90,
   "metadata": {},
   "outputs": [],
   "source": [
    "from sklearn.metrics import accuracy_score, precision_score, recall_score, f1_score, make_scorer\n",
    "\n",
    "scoring = {\n",
    "    'accuracy': make_scorer(accuracy_score),\n",
    "    'precision': make_scorer(precision_score, average='weighted'),\n",
    "    'recall': make_scorer(recall_score, average='weighted'),\n",
    "    'f1': make_scorer(f1_score, average='weighted'),\n",
    "    'precision_bot': make_scorer(precision_score, pos_label=1),\n",
    "    'recall_bot': make_scorer(recall_score, pos_label=1),\n",
    "    'f1_bot': make_scorer(f1_score, pos_label=1),\n",
    "    'precision_human': make_scorer(precision_score, pos_label=0),\n",
    "    'recall_human': make_scorer(recall_score, pos_label=0),\n",
    "    'f1_human': make_scorer(f1_score, pos_label=0),\n",
    "}"
   ]
  },
  {
   "cell_type": "markdown",
   "metadata": {},
   "source": [
    "As already stated, the comments are not all independent: each commenter has exactly 20 comments. Since we are going to use a K-Fold cross validation process at several places, we should avoid having the comments of a single commenter to be spread accross multiple folds. Indeed, such a situation means that the classifier will learn from some comments and will be tested on the remaining ones for that commenter, hence it will likely overfit the training data, and won't be able to generalize to new commenters. \n",
    "\n",
    "Unfortunately, `sklearn` has no implementation to support this (yet, there is a PR in progress: https://github.com/scikit-learn/scikit-learn/pull/18649). \n",
    "Let's borrow the code: "
   ]
  },
  {
   "cell_type": "code",
   "execution_count": 91,
   "metadata": {},
   "outputs": [],
   "source": [
    "from collections import Counter, defaultdict\n",
    "\n",
    "import numpy as np\n",
    "\n",
    "from sklearn.model_selection._split import _BaseKFold, _RepeatedSplits\n",
    "from sklearn.utils.validation import check_random_state\n",
    "\n",
    "\n",
    "class StratifiedGroupKFold(_BaseKFold):\n",
    "    \"\"\"Stratified K-Folds iterator variant with non-overlapping groups.\n",
    "\n",
    "    This cross-validation object is a variation of StratifiedKFold that returns\n",
    "    stratified folds with non-overlapping groups. The folds are made by\n",
    "    preserving the percentage of samples for each class.\n",
    "\n",
    "    The same group will not appear in two different folds (the number of\n",
    "    distinct groups has to be at least equal to the number of folds).\n",
    "\n",
    "    The difference between GroupKFold and StratifiedGroupKFold is that\n",
    "    the former attempts to create balanced folds such that the number of\n",
    "    distinct groups is approximately the same in each fold, whereas\n",
    "    StratifiedGroupKFold attempts to create folds which preserve the\n",
    "    percentage of samples for each class.\n",
    "\n",
    "    Read more in the :ref:`User Guide <cross_validation>`.\n",
    "\n",
    "    Parameters\n",
    "    ----------\n",
    "    n_splits : int, default=5\n",
    "        Number of folds. Must be at least 2.\n",
    "\n",
    "    shuffle : bool, default=False\n",
    "        Whether to shuffle each class's samples before splitting into batches.\n",
    "        Note that the samples within each split will not be shuffled.\n",
    "\n",
    "    random_state : int or RandomState instance, default=None\n",
    "        When `shuffle` is True, `random_state` affects the ordering of the\n",
    "        indices, which controls the randomness of each fold for each class.\n",
    "        Otherwise, leave `random_state` as `None`.\n",
    "        Pass an int for reproducible output across multiple function calls.\n",
    "        See :term:`Glossary <random_state>`.\n",
    "\n",
    "    Examples\n",
    "    --------\n",
    "    >>> import numpy as np\n",
    "    >>> from sklearn.model_selection import StratifiedGroupKFold\n",
    "    >>> X = np.ones((17, 2))\n",
    "    >>> y = np.array([0, 0, 1, 1, 1, 1, 1, 1, 0, 0, 0, 0, 0, 0, 0, 0, 0])\n",
    "    >>> groups = np.array([1, 1, 2, 2, 3, 3, 3, 4, 5, 5, 5, 5, 6, 6, 7, 8, 8])\n",
    "    >>> cv = StratifiedGroupKFold(n_splits=3)\n",
    "    >>> for train_idxs, test_idxs in cv.split(X, y, groups):\n",
    "    ...     print(\"TRAIN:\", groups[train_idxs])\n",
    "    ...     print(\"      \", y[train_idxs])\n",
    "    ...     print(\" TEST:\", groups[test_idxs])\n",
    "    ...     print(\"      \", y[test_idxs])\n",
    "    TRAIN: [2 2 4 5 5 5 5 6 6 7]\n",
    "           [1 1 1 0 0 0 0 0 0 0]\n",
    "     TEST: [1 1 3 3 3 8 8]\n",
    "           [0 0 1 1 1 0 0]\n",
    "    TRAIN: [1 1 3 3 3 4 5 5 5 5 8 8]\n",
    "           [0 0 1 1 1 1 0 0 0 0 0 0]\n",
    "     TEST: [2 2 6 6 7]\n",
    "           [1 1 0 0 0]\n",
    "    TRAIN: [1 1 2 2 3 3 3 6 6 7 8 8]\n",
    "           [0 0 1 1 1 1 1 0 0 0 0 0]\n",
    "     TEST: [4 5 5 5 5]\n",
    "           [1 0 0 0 0]\n",
    "\n",
    "    See also\n",
    "    --------\n",
    "    StratifiedKFold: Takes class information into account to build folds which\n",
    "        retain class distributions (for binary or multiclass classification\n",
    "        tasks).\n",
    "\n",
    "    GroupKFold: K-fold iterator variant with non-overlapping groups.\n",
    "    \"\"\"\n",
    "\n",
    "    def __init__(self, n_splits=5, shuffle=False, random_state=None):\n",
    "        super().__init__(n_splits=n_splits, shuffle=shuffle,\n",
    "                         random_state=random_state)\n",
    "\n",
    "    # Implementation based on this kaggle kernel:\n",
    "    # https://www.kaggle.com/jakubwasikowski/stratified-group-k-fold-cross-validation\n",
    "    def _iter_test_indices(self, X, y, groups):\n",
    "        labels_num = np.max(y) + 1\n",
    "        y_counts_per_group = defaultdict(lambda: np.zeros(labels_num))\n",
    "        y_distr = Counter()\n",
    "        for label, group in zip(y, groups):\n",
    "            y_counts_per_group[group][label] += 1\n",
    "            y_distr[label] += 1\n",
    "\n",
    "        y_counts_per_fold = defaultdict(lambda: np.zeros(labels_num))\n",
    "        groups_per_fold = defaultdict(set)\n",
    "\n",
    "        groups_and_y_counts = list(y_counts_per_group.items())\n",
    "        rng = check_random_state(self.random_state)\n",
    "        if self.shuffle:\n",
    "            rng.shuffle(groups_and_y_counts)\n",
    "\n",
    "        for group, y_counts in sorted(groups_and_y_counts,\n",
    "                                      key=lambda x: -np.std(x[1])):\n",
    "            best_fold = None\n",
    "            min_eval = None\n",
    "            for i in range(self.n_splits):\n",
    "                y_counts_per_fold[i] += y_counts\n",
    "                std_per_label = []\n",
    "                for label in range(labels_num):\n",
    "                    std_per_label.append(np.std(\n",
    "                        [y_counts_per_fold[j][label] / y_distr[label]\n",
    "                         for j in range(self.n_splits)]))\n",
    "                y_counts_per_fold[i] -= y_counts\n",
    "                fold_eval = np.mean(std_per_label)\n",
    "                if min_eval is None or fold_eval < min_eval:\n",
    "                    min_eval = fold_eval\n",
    "                    best_fold = i\n",
    "            y_counts_per_fold[best_fold] += y_counts\n",
    "            groups_per_fold[best_fold].add(group)\n",
    "\n",
    "        for i in range(self.n_splits):\n",
    "            test_indices = [idx for idx, group in enumerate(groups)\n",
    "                            if group in groups_per_fold[i]]\n",
    "            yield test_indices\n"
   ]
  },
  {
   "cell_type": "markdown",
   "metadata": {},
   "source": [
    "Let's use it on our training set. "
   ]
  },
  {
   "cell_type": "code",
   "execution_count": 92,
   "metadata": {},
   "outputs": [],
   "source": [
    "from sklearn.model_selection import cross_validate\n",
    "\n",
    "X_train, y_train = df[df.training].comment, df[df.training].label\n",
    "groups = df[df.training].commenter\n",
    "\n",
    "results = dict()\n",
    "\n",
    "for name, estimator in classifiers.items():\n",
    "    pipeline = Pipeline(preprocessing + [(name, estimator)])\n",
    "    cv = cross_validate(pipeline, X_train, y_train, scoring=scoring, cv=StratifiedGroupKFold(5), groups=groups, n_jobs=-1)\n",
    "    results[name] = cv"
   ]
  },
  {
   "cell_type": "code",
   "execution_count": 93,
   "metadata": {},
   "outputs": [
    {
     "data": {
      "text/html": [
       "<style  type=\"text/css\" >\n",
       "#T_0722aa04_5667_11eb_8479_acde48001122row0_col0,#T_0722aa04_5667_11eb_8479_acde48001122row0_col1,#T_0722aa04_5667_11eb_8479_acde48001122row1_col2,#T_0722aa04_5667_11eb_8479_acde48001122row1_col3,#T_0722aa04_5667_11eb_8479_acde48001122row1_col4,#T_0722aa04_5667_11eb_8479_acde48001122row1_col5,#T_0722aa04_5667_11eb_8479_acde48001122row1_col7,#T_0722aa04_5667_11eb_8479_acde48001122row1_col8,#T_0722aa04_5667_11eb_8479_acde48001122row1_col9,#T_0722aa04_5667_11eb_8479_acde48001122row1_col11,#T_0722aa04_5667_11eb_8479_acde48001122row2_col10,#T_0722aa04_5667_11eb_8479_acde48001122row3_col6{\n",
       "            background-color:  yellow;\n",
       "        }</style><table id=\"T_0722aa04_5667_11eb_8479_acde48001122\" ><thead>    <tr>        <th class=\"blank level0\" ></th>        <th class=\"col_heading level0 col0\" >fit_time</th>        <th class=\"col_heading level0 col1\" >score_time</th>        <th class=\"col_heading level0 col2\" >test_accuracy</th>        <th class=\"col_heading level0 col3\" >test_precision</th>        <th class=\"col_heading level0 col4\" >test_recall</th>        <th class=\"col_heading level0 col5\" >test_f1</th>        <th class=\"col_heading level0 col6\" >test_precision_bot</th>        <th class=\"col_heading level0 col7\" >test_recall_bot</th>        <th class=\"col_heading level0 col8\" >test_f1_bot</th>        <th class=\"col_heading level0 col9\" >test_precision_human</th>        <th class=\"col_heading level0 col10\" >test_recall_human</th>        <th class=\"col_heading level0 col11\" >test_f1_human</th>    </tr></thead><tbody>\n",
       "                <tr>\n",
       "                        <th id=\"T_0722aa04_5667_11eb_8479_acde48001122level0_row0\" class=\"row_heading level0 row0\" >linear_svc</th>\n",
       "                        <td id=\"T_0722aa04_5667_11eb_8479_acde48001122row0_col0\" class=\"data row0 col0\" >15.066507</td>\n",
       "                        <td id=\"T_0722aa04_5667_11eb_8479_acde48001122row0_col1\" class=\"data row0 col1\" >2.565315</td>\n",
       "                        <td id=\"T_0722aa04_5667_11eb_8479_acde48001122row0_col2\" class=\"data row0 col2\" >0.795406</td>\n",
       "                        <td id=\"T_0722aa04_5667_11eb_8479_acde48001122row0_col3\" class=\"data row0 col3\" >0.846081</td>\n",
       "                        <td id=\"T_0722aa04_5667_11eb_8479_acde48001122row0_col4\" class=\"data row0 col4\" >0.795406</td>\n",
       "                        <td id=\"T_0722aa04_5667_11eb_8479_acde48001122row0_col5\" class=\"data row0 col5\" >0.787352</td>\n",
       "                        <td id=\"T_0722aa04_5667_11eb_8479_acde48001122row0_col6\" class=\"data row0 col6\" >0.977636</td>\n",
       "                        <td id=\"T_0722aa04_5667_11eb_8479_acde48001122row0_col7\" class=\"data row0 col7\" >0.604659</td>\n",
       "                        <td id=\"T_0722aa04_5667_11eb_8479_acde48001122row0_col8\" class=\"data row0 col8\" >0.746271</td>\n",
       "                        <td id=\"T_0722aa04_5667_11eb_8479_acde48001122row0_col9\" class=\"data row0 col9\" >0.714485</td>\n",
       "                        <td id=\"T_0722aa04_5667_11eb_8479_acde48001122row0_col10\" class=\"data row0 col10\" >0.986217</td>\n",
       "                        <td id=\"T_0722aa04_5667_11eb_8479_acde48001122row0_col11\" class=\"data row0 col11\" >0.828443</td>\n",
       "            </tr>\n",
       "            <tr>\n",
       "                        <th id=\"T_0722aa04_5667_11eb_8479_acde48001122level0_row1\" class=\"row_heading level0 row1\" >multinomial_nb</th>\n",
       "                        <td id=\"T_0722aa04_5667_11eb_8479_acde48001122row1_col0\" class=\"data row1 col0\" >0.642829</td>\n",
       "                        <td id=\"T_0722aa04_5667_11eb_8479_acde48001122row1_col1\" class=\"data row1 col1\" >0.157249</td>\n",
       "                        <td id=\"T_0722aa04_5667_11eb_8479_acde48001122row1_col2\" class=\"data row1 col2\" >0.856995</td>\n",
       "                        <td id=\"T_0722aa04_5667_11eb_8479_acde48001122row1_col3\" class=\"data row1 col3\" >0.859141</td>\n",
       "                        <td id=\"T_0722aa04_5667_11eb_8479_acde48001122row1_col4\" class=\"data row1 col4\" >0.856995</td>\n",
       "                        <td id=\"T_0722aa04_5667_11eb_8479_acde48001122row1_col5\" class=\"data row1 col5\" >0.856758</td>\n",
       "                        <td id=\"T_0722aa04_5667_11eb_8479_acde48001122row1_col6\" class=\"data row1 col6\" >0.885377</td>\n",
       "                        <td id=\"T_0722aa04_5667_11eb_8479_acde48001122row1_col7\" class=\"data row1 col7\" >0.819887</td>\n",
       "                        <td id=\"T_0722aa04_5667_11eb_8479_acde48001122row1_col8\" class=\"data row1 col8\" >0.851216</td>\n",
       "                        <td id=\"T_0722aa04_5667_11eb_8479_acde48001122row1_col9\" class=\"data row1 col9\" >0.832884</td>\n",
       "                        <td id=\"T_0722aa04_5667_11eb_8479_acde48001122row1_col10\" class=\"data row1 col10\" >0.894132</td>\n",
       "                        <td id=\"T_0722aa04_5667_11eb_8479_acde48001122row1_col11\" class=\"data row1 col11\" >0.862303</td>\n",
       "            </tr>\n",
       "            <tr>\n",
       "                        <th id=\"T_0722aa04_5667_11eb_8479_acde48001122level0_row2\" class=\"row_heading level0 row2\" >knn</th>\n",
       "                        <td id=\"T_0722aa04_5667_11eb_8479_acde48001122row2_col0\" class=\"data row2 col0\" >0.743410</td>\n",
       "                        <td id=\"T_0722aa04_5667_11eb_8479_acde48001122row2_col1\" class=\"data row2 col1\" >1.166516</td>\n",
       "                        <td id=\"T_0722aa04_5667_11eb_8479_acde48001122row2_col2\" class=\"data row2 col2\" >0.679951</td>\n",
       "                        <td id=\"T_0722aa04_5667_11eb_8479_acde48001122row2_col3\" class=\"data row2 col3\" >0.802174</td>\n",
       "                        <td id=\"T_0722aa04_5667_11eb_8479_acde48001122row2_col4\" class=\"data row2 col4\" >0.679951</td>\n",
       "                        <td id=\"T_0722aa04_5667_11eb_8479_acde48001122row2_col5\" class=\"data row2 col5\" >0.643029</td>\n",
       "                        <td id=\"T_0722aa04_5667_11eb_8479_acde48001122row2_col6\" class=\"data row2 col6\" >0.993613</td>\n",
       "                        <td id=\"T_0722aa04_5667_11eb_8479_acde48001122row2_col7\" class=\"data row2 col7\" >0.362519</td>\n",
       "                        <td id=\"T_0722aa04_5667_11eb_8479_acde48001122row2_col8\" class=\"data row2 col8\" >0.528726</td>\n",
       "                        <td id=\"T_0722aa04_5667_11eb_8479_acde48001122row2_col9\" class=\"data row2 col9\" >0.610662</td>\n",
       "                        <td id=\"T_0722aa04_5667_11eb_8479_acde48001122row2_col10\" class=\"data row2 col10\" >0.997494</td>\n",
       "                        <td id=\"T_0722aa04_5667_11eb_8479_acde48001122row2_col11\" class=\"data row2 col11\" >0.757357</td>\n",
       "            </tr>\n",
       "            <tr>\n",
       "                        <th id=\"T_0722aa04_5667_11eb_8479_acde48001122level0_row3\" class=\"row_heading level0 row3\" >rndfrst</th>\n",
       "                        <td id=\"T_0722aa04_5667_11eb_8479_acde48001122row3_col0\" class=\"data row3 col0\" >6.304821</td>\n",
       "                        <td id=\"T_0722aa04_5667_11eb_8479_acde48001122row3_col1\" class=\"data row3 col1\" >0.259189</td>\n",
       "                        <td id=\"T_0722aa04_5667_11eb_8479_acde48001122row3_col2\" class=\"data row3 col2\" >0.742374</td>\n",
       "                        <td id=\"T_0722aa04_5667_11eb_8479_acde48001122row3_col3\" class=\"data row3 col3\" >0.827437</td>\n",
       "                        <td id=\"T_0722aa04_5667_11eb_8479_acde48001122row3_col4\" class=\"data row3 col4\" >0.742374</td>\n",
       "                        <td id=\"T_0722aa04_5667_11eb_8479_acde48001122row3_col5\" class=\"data row3 col5\" >0.724053</td>\n",
       "                        <td id=\"T_0722aa04_5667_11eb_8479_acde48001122row3_col6\" class=\"data row3 col6\" >0.993668</td>\n",
       "                        <td id=\"T_0722aa04_5667_11eb_8479_acde48001122row3_col7\" class=\"data row3 col7\" >0.487969</td>\n",
       "                        <td id=\"T_0722aa04_5667_11eb_8479_acde48001122row3_col8\" class=\"data row3 col8\" >0.653270</td>\n",
       "                        <td id=\"T_0722aa04_5667_11eb_8479_acde48001122row3_col9\" class=\"data row3 col9\" >0.661147</td>\n",
       "                        <td id=\"T_0722aa04_5667_11eb_8479_acde48001122row3_col10\" class=\"data row3 col10\" >0.996867</td>\n",
       "                        <td id=\"T_0722aa04_5667_11eb_8479_acde48001122row3_col11\" class=\"data row3 col11\" >0.794854</td>\n",
       "            </tr>\n",
       "            <tr>\n",
       "                        <th id=\"T_0722aa04_5667_11eb_8479_acde48001122level0_row4\" class=\"row_heading level0 row4\" >zeror</th>\n",
       "                        <td id=\"T_0722aa04_5667_11eb_8479_acde48001122row4_col0\" class=\"data row4 col0\" >0.728376</td>\n",
       "                        <td id=\"T_0722aa04_5667_11eb_8479_acde48001122row4_col1\" class=\"data row4 col1\" >0.185492</td>\n",
       "                        <td id=\"T_0722aa04_5667_11eb_8479_acde48001122row4_col2\" class=\"data row4 col2\" >0.498956</td>\n",
       "                        <td id=\"T_0722aa04_5667_11eb_8479_acde48001122row4_col3\" class=\"data row4 col3\" >0.248957</td>\n",
       "                        <td id=\"T_0722aa04_5667_11eb_8479_acde48001122row4_col4\" class=\"data row4 col4\" >0.498956</td>\n",
       "                        <td id=\"T_0722aa04_5667_11eb_8479_acde48001122row4_col5\" class=\"data row4 col5\" >0.332174</td>\n",
       "                        <td id=\"T_0722aa04_5667_11eb_8479_acde48001122row4_col6\" class=\"data row4 col6\" >0.199529</td>\n",
       "                        <td id=\"T_0722aa04_5667_11eb_8479_acde48001122row4_col7\" class=\"data row4 col7\" >0.400000</td>\n",
       "                        <td id=\"T_0722aa04_5667_11eb_8479_acde48001122row4_col8\" class=\"data row4 col8\" >0.266248</td>\n",
       "                        <td id=\"T_0722aa04_5667_11eb_8479_acde48001122row4_col9\" class=\"data row4 col9\" >0.299427</td>\n",
       "                        <td id=\"T_0722aa04_5667_11eb_8479_acde48001122row4_col10\" class=\"data row4 col10\" >0.600000</td>\n",
       "                        <td id=\"T_0722aa04_5667_11eb_8479_acde48001122row4_col11\" class=\"data row4 col11\" >0.399490</td>\n",
       "            </tr>\n",
       "    </tbody></table>"
      ],
      "text/plain": [
       "<pandas.io.formats.style.Styler at 0x12688c580>"
      ]
     },
     "execution_count": 93,
     "metadata": {},
     "output_type": "execute_result"
    }
   ],
   "source": [
    "(\n",
    "    pandas.DataFrame.from_dict(results)\n",
    "    .applymap(np.mean)\n",
    "    .T\n",
    "    .style.highlight_max(axis=0)\n",
    ")"
   ]
  },
  {
   "cell_type": "markdown",
   "metadata": {},
   "source": [
    "So, it seems that **multinomial_nb** performs the best with this \"default configuration\".\n",
    "\n",
    "Let's create a grid search to find out which parameters are adequate for the preprocessing. The grid search process is performed on a cross-validation on the training set only. "
   ]
  },
  {
   "cell_type": "code",
   "execution_count": 94,
   "metadata": {},
   "outputs": [],
   "source": [
    "name = 'multinomial_nb'\n",
    "\n",
    "from sklearn.model_selection import GridSearchCV\n",
    "\n",
    "pipeline = Pipeline(preprocessing + [(name, classifiers[name])])\n",
    "grid = GridSearchCV(pipeline, preprocessing_params, scoring=scoring, refit='f1', cv=StratifiedGroupKFold(5), n_jobs=-1)\n",
    "\n",
    "grid.fit(X_train, y_train, groups=groups);"
   ]
  },
  {
   "cell_type": "code",
   "execution_count": 95,
   "metadata": {},
   "outputs": [
    {
     "data": {
      "text/plain": [
       "(0.8682308503803154,\n",
       " {'tfidf__use_idf': True,\n",
       "  'vectorizer__max_df': 1.0,\n",
       "  'vectorizer__max_features': None,\n",
       "  'vectorizer__min_df': 1,\n",
       "  'vectorizer__ngram_range': (1, 2)})"
      ]
     },
     "execution_count": 95,
     "metadata": {},
     "output_type": "execute_result"
    }
   ],
   "source": [
    "grid.best_score_, grid.best_params_"
   ]
  },
  {
   "cell_type": "markdown",
   "metadata": {},
   "source": [
    "The best score is obtained with the above parameters. However, as we'll see next, the difference is low. "
   ]
  },
  {
   "cell_type": "code",
   "execution_count": 96,
   "metadata": {},
   "outputs": [
    {
     "data": {
      "text/html": [
       "<style  type=\"text/css\" >\n",
       "#T_7e4cca10_5667_11eb_8479_acde48001122row0_col1,#T_7e4cca10_5667_11eb_8479_acde48001122row0_col2,#T_7e4cca10_5667_11eb_8479_acde48001122row0_col3,#T_7e4cca10_5667_11eb_8479_acde48001122row0_col4,#T_7e4cca10_5667_11eb_8479_acde48001122row0_col7,#T_7e4cca10_5667_11eb_8479_acde48001122row1_col1,#T_7e4cca10_5667_11eb_8479_acde48001122row1_col2,#T_7e4cca10_5667_11eb_8479_acde48001122row1_col3,#T_7e4cca10_5667_11eb_8479_acde48001122row1_col4,#T_7e4cca10_5667_11eb_8479_acde48001122row1_col7,#T_7e4cca10_5667_11eb_8479_acde48001122row2_col6,#T_7e4cca10_5667_11eb_8479_acde48001122row2_col8,#T_7e4cca10_5667_11eb_8479_acde48001122row4_col10,#T_7e4cca10_5667_11eb_8479_acde48001122row8_col5,#T_7e4cca10_5667_11eb_8479_acde48001122row8_col9{\n",
       "            background-color:  yellow;\n",
       "        }</style><table id=\"T_7e4cca10_5667_11eb_8479_acde48001122\" ><thead>    <tr>        <th class=\"blank level0\" ></th>        <th class=\"col_heading level0 col0\" >params</th>        <th class=\"col_heading level0 col1\" >accuracy</th>        <th class=\"col_heading level0 col2\" >precision</th>        <th class=\"col_heading level0 col3\" >recall</th>        <th class=\"col_heading level0 col4\" >f1</th>        <th class=\"col_heading level0 col5\" >precision_bot</th>        <th class=\"col_heading level0 col6\" >recall_bot</th>        <th class=\"col_heading level0 col7\" >f1_bot</th>        <th class=\"col_heading level0 col8\" >precision_human</th>        <th class=\"col_heading level0 col9\" >recall_human</th>        <th class=\"col_heading level0 col10\" >f1_human</th>    </tr></thead><tbody>\n",
       "                <tr>\n",
       "                        <th id=\"T_7e4cca10_5667_11eb_8479_acde48001122level0_row0\" class=\"row_heading level0 row0\" >19</th>\n",
       "                        <td id=\"T_7e4cca10_5667_11eb_8479_acde48001122row0_col0\" class=\"data row0 col0\" >{'tfidf__use_idf': True, 'vectorizer__max_df': 0.5, 'vectorizer__max_features': None, 'vectorizer__min_df': 1, 'vectorizer__ngram_range': (1, 2)}</td>\n",
       "                        <td id=\"T_7e4cca10_5667_11eb_8479_acde48001122row0_col1\" class=\"data row0 col1\" >0.868281</td>\n",
       "                        <td id=\"T_7e4cca10_5667_11eb_8479_acde48001122row0_col2\" class=\"data row0 col2\" >0.868766</td>\n",
       "                        <td id=\"T_7e4cca10_5667_11eb_8479_acde48001122row0_col3\" class=\"data row0 col3\" >0.868281</td>\n",
       "                        <td id=\"T_7e4cca10_5667_11eb_8479_acde48001122row0_col4\" class=\"data row0 col4\" >0.868231</td>\n",
       "                        <td id=\"T_7e4cca10_5667_11eb_8479_acde48001122row0_col5\" class=\"data row0 col5\" >0.870284</td>\n",
       "                        <td id=\"T_7e4cca10_5667_11eb_8479_acde48001122row0_col6\" class=\"data row0 col6\" >0.865651</td>\n",
       "                        <td id=\"T_7e4cca10_5667_11eb_8479_acde48001122row0_col7\" class=\"data row0 col7\" >0.867666</td>\n",
       "                        <td id=\"T_7e4cca10_5667_11eb_8479_acde48001122row0_col8\" class=\"data row0 col8\" >0.867214</td>\n",
       "                        <td id=\"T_7e4cca10_5667_11eb_8479_acde48001122row0_col9\" class=\"data row0 col9\" >0.870956</td>\n",
       "                        <td id=\"T_7e4cca10_5667_11eb_8479_acde48001122row0_col10\" class=\"data row0 col10\" >0.868802</td>\n",
       "            </tr>\n",
       "            <tr>\n",
       "                        <th id=\"T_7e4cca10_5667_11eb_8479_acde48001122level0_row1\" class=\"row_heading level0 row1\" >1</th>\n",
       "                        <td id=\"T_7e4cca10_5667_11eb_8479_acde48001122row1_col0\" class=\"data row1 col0\" >{'tfidf__use_idf': True, 'vectorizer__max_df': 1.0, 'vectorizer__max_features': None, 'vectorizer__min_df': 1, 'vectorizer__ngram_range': (1, 2)}</td>\n",
       "                        <td id=\"T_7e4cca10_5667_11eb_8479_acde48001122row1_col1\" class=\"data row1 col1\" >0.868281</td>\n",
       "                        <td id=\"T_7e4cca10_5667_11eb_8479_acde48001122row1_col2\" class=\"data row1 col2\" >0.868766</td>\n",
       "                        <td id=\"T_7e4cca10_5667_11eb_8479_acde48001122row1_col3\" class=\"data row1 col3\" >0.868281</td>\n",
       "                        <td id=\"T_7e4cca10_5667_11eb_8479_acde48001122row1_col4\" class=\"data row1 col4\" >0.868231</td>\n",
       "                        <td id=\"T_7e4cca10_5667_11eb_8479_acde48001122row1_col5\" class=\"data row1 col5\" >0.870284</td>\n",
       "                        <td id=\"T_7e4cca10_5667_11eb_8479_acde48001122row1_col6\" class=\"data row1 col6\" >0.865651</td>\n",
       "                        <td id=\"T_7e4cca10_5667_11eb_8479_acde48001122row1_col7\" class=\"data row1 col7\" >0.867666</td>\n",
       "                        <td id=\"T_7e4cca10_5667_11eb_8479_acde48001122row1_col8\" class=\"data row1 col8\" >0.867214</td>\n",
       "                        <td id=\"T_7e4cca10_5667_11eb_8479_acde48001122row1_col9\" class=\"data row1 col9\" >0.870956</td>\n",
       "                        <td id=\"T_7e4cca10_5667_11eb_8479_acde48001122row1_col10\" class=\"data row1 col10\" >0.868802</td>\n",
       "            </tr>\n",
       "            <tr>\n",
       "                        <th id=\"T_7e4cca10_5667_11eb_8479_acde48001122level0_row2\" class=\"row_heading level0 row2\" >73</th>\n",
       "                        <td id=\"T_7e4cca10_5667_11eb_8479_acde48001122row2_col0\" class=\"data row2 col0\" >{'tfidf__use_idf': False, 'vectorizer__max_df': 0.5, 'vectorizer__max_features': None, 'vectorizer__min_df': 1, 'vectorizer__ngram_range': (1, 2)}</td>\n",
       "                        <td id=\"T_7e4cca10_5667_11eb_8479_acde48001122row2_col1\" class=\"data row2 col1\" >0.867759</td>\n",
       "                        <td id=\"T_7e4cca10_5667_11eb_8479_acde48001122row2_col2\" class=\"data row2 col2\" >0.868272</td>\n",
       "                        <td id=\"T_7e4cca10_5667_11eb_8479_acde48001122row2_col3\" class=\"data row2 col3\" >0.867759</td>\n",
       "                        <td id=\"T_7e4cca10_5667_11eb_8479_acde48001122row2_col4\" class=\"data row2 col4\" >0.867703</td>\n",
       "                        <td id=\"T_7e4cca10_5667_11eb_8479_acde48001122row2_col5\" class=\"data row2 col5\" >0.868774</td>\n",
       "                        <td id=\"T_7e4cca10_5667_11eb_8479_acde48001122row2_col6\" class=\"data row2 col6\" >0.866486</td>\n",
       "                        <td id=\"T_7e4cca10_5667_11eb_8479_acde48001122row2_col7\" class=\"data row2 col7\" >0.867308</td>\n",
       "                        <td id=\"T_7e4cca10_5667_11eb_8479_acde48001122row2_col8\" class=\"data row2 col8\" >0.867737</td>\n",
       "                        <td id=\"T_7e4cca10_5667_11eb_8479_acde48001122row2_col9\" class=\"data row2 col9\" >0.869075</td>\n",
       "                        <td id=\"T_7e4cca10_5667_11eb_8479_acde48001122row2_col10\" class=\"data row2 col10\" >0.868104</td>\n",
       "            </tr>\n",
       "            <tr>\n",
       "                        <th id=\"T_7e4cca10_5667_11eb_8479_acde48001122level0_row3\" class=\"row_heading level0 row3\" >55</th>\n",
       "                        <td id=\"T_7e4cca10_5667_11eb_8479_acde48001122row3_col0\" class=\"data row3 col0\" >{'tfidf__use_idf': False, 'vectorizer__max_df': 1.0, 'vectorizer__max_features': None, 'vectorizer__min_df': 1, 'vectorizer__ngram_range': (1, 2)}</td>\n",
       "                        <td id=\"T_7e4cca10_5667_11eb_8479_acde48001122row3_col1\" class=\"data row3 col1\" >0.867654</td>\n",
       "                        <td id=\"T_7e4cca10_5667_11eb_8479_acde48001122row3_col2\" class=\"data row3 col2\" >0.868160</td>\n",
       "                        <td id=\"T_7e4cca10_5667_11eb_8479_acde48001122row3_col3\" class=\"data row3 col3\" >0.867654</td>\n",
       "                        <td id=\"T_7e4cca10_5667_11eb_8479_acde48001122row3_col4\" class=\"data row3 col4\" >0.867598</td>\n",
       "                        <td id=\"T_7e4cca10_5667_11eb_8479_acde48001122row3_col5\" class=\"data row3 col5\" >0.869048</td>\n",
       "                        <td id=\"T_7e4cca10_5667_11eb_8479_acde48001122row3_col6\" class=\"data row3 col6\" >0.865857</td>\n",
       "                        <td id=\"T_7e4cca10_5667_11eb_8479_acde48001122row3_col7\" class=\"data row3 col7\" >0.867133</td>\n",
       "                        <td id=\"T_7e4cca10_5667_11eb_8479_acde48001122row3_col8\" class=\"data row3 col8\" >0.867240</td>\n",
       "                        <td id=\"T_7e4cca10_5667_11eb_8479_acde48001122row3_col9\" class=\"data row3 col9\" >0.869494</td>\n",
       "                        <td id=\"T_7e4cca10_5667_11eb_8479_acde48001122row3_col10\" class=\"data row3 col10\" >0.868069</td>\n",
       "            </tr>\n",
       "            <tr>\n",
       "                        <th id=\"T_7e4cca10_5667_11eb_8479_acde48001122level0_row4\" class=\"row_heading level0 row4\" >91</th>\n",
       "                        <td id=\"T_7e4cca10_5667_11eb_8479_acde48001122row4_col0\" class=\"data row4 col0\" >{'tfidf__use_idf': False, 'vectorizer__max_df': 0.1, 'vectorizer__max_features': None, 'vectorizer__min_df': 1, 'vectorizer__ngram_range': (1, 2)}</td>\n",
       "                        <td id=\"T_7e4cca10_5667_11eb_8479_acde48001122row4_col1\" class=\"data row4 col1\" >0.866826</td>\n",
       "                        <td id=\"T_7e4cca10_5667_11eb_8479_acde48001122row4_col2\" class=\"data row4 col2\" >0.868311</td>\n",
       "                        <td id=\"T_7e4cca10_5667_11eb_8479_acde48001122row4_col3\" class=\"data row4 col3\" >0.866826</td>\n",
       "                        <td id=\"T_7e4cca10_5667_11eb_8479_acde48001122row4_col4\" class=\"data row4 col4\" >0.866678</td>\n",
       "                        <td id=\"T_7e4cca10_5667_11eb_8479_acde48001122row4_col5\" class=\"data row4 col5\" >0.887131</td>\n",
       "                        <td id=\"T_7e4cca10_5667_11eb_8479_acde48001122row4_col6\" class=\"data row4 col6\" >0.840846</td>\n",
       "                        <td id=\"T_7e4cca10_5667_11eb_8479_acde48001122row4_col7\" class=\"data row4 col7\" >0.863027</td>\n",
       "                        <td id=\"T_7e4cca10_5667_11eb_8479_acde48001122row4_col8\" class=\"data row4 col8\" >0.849435</td>\n",
       "                        <td id=\"T_7e4cca10_5667_11eb_8479_acde48001122row4_col9\" class=\"data row4 col9\" >0.892881</td>\n",
       "                        <td id=\"T_7e4cca10_5667_11eb_8479_acde48001122row4_col10\" class=\"data row4 col10\" >0.870339</td>\n",
       "            </tr>\n",
       "            <tr>\n",
       "                        <th id=\"T_7e4cca10_5667_11eb_8479_acde48001122level0_row5\" class=\"row_heading level0 row5\" >54</th>\n",
       "                        <td id=\"T_7e4cca10_5667_11eb_8479_acde48001122row5_col0\" class=\"data row5 col0\" >{'tfidf__use_idf': False, 'vectorizer__max_df': 1.0, 'vectorizer__max_features': None, 'vectorizer__min_df': 1, 'vectorizer__ngram_range': (1, 1)}</td>\n",
       "                        <td id=\"T_7e4cca10_5667_11eb_8479_acde48001122row5_col1\" class=\"data row5 col1\" >0.864945</td>\n",
       "                        <td id=\"T_7e4cca10_5667_11eb_8479_acde48001122row5_col2\" class=\"data row5 col2\" >0.865717</td>\n",
       "                        <td id=\"T_7e4cca10_5667_11eb_8479_acde48001122row5_col3\" class=\"data row5 col3\" >0.864945</td>\n",
       "                        <td id=\"T_7e4cca10_5667_11eb_8479_acde48001122row5_col4\" class=\"data row5 col4\" >0.864848</td>\n",
       "                        <td id=\"T_7e4cca10_5667_11eb_8479_acde48001122row5_col5\" class=\"data row5 col5\" >0.876481</td>\n",
       "                        <td id=\"T_7e4cca10_5667_11eb_8479_acde48001122row5_col6\" class=\"data row5 col6\" >0.849378</td>\n",
       "                        <td id=\"T_7e4cca10_5667_11eb_8479_acde48001122row5_col7\" class=\"data row5 col7\" >0.862410</td>\n",
       "                        <td id=\"T_7e4cca10_5667_11eb_8479_acde48001122row5_col8\" class=\"data row5 col8\" >0.854917</td>\n",
       "                        <td id=\"T_7e4cca10_5667_11eb_8479_acde48001122row5_col9\" class=\"data row5 col9\" >0.880560</td>\n",
       "                        <td id=\"T_7e4cca10_5667_11eb_8479_acde48001122row5_col10\" class=\"data row5 col10\" >0.867293</td>\n",
       "            </tr>\n",
       "            <tr>\n",
       "                        <th id=\"T_7e4cca10_5667_11eb_8479_acde48001122level0_row6\" class=\"row_heading level0 row6\" >72</th>\n",
       "                        <td id=\"T_7e4cca10_5667_11eb_8479_acde48001122row6_col0\" class=\"data row6 col0\" >{'tfidf__use_idf': False, 'vectorizer__max_df': 0.5, 'vectorizer__max_features': None, 'vectorizer__min_df': 1, 'vectorizer__ngram_range': (1, 1)}</td>\n",
       "                        <td id=\"T_7e4cca10_5667_11eb_8479_acde48001122row6_col1\" class=\"data row6 col1\" >0.864529</td>\n",
       "                        <td id=\"T_7e4cca10_5667_11eb_8479_acde48001122row6_col2\" class=\"data row6 col2\" >0.865298</td>\n",
       "                        <td id=\"T_7e4cca10_5667_11eb_8479_acde48001122row6_col3\" class=\"data row6 col3\" >0.864529</td>\n",
       "                        <td id=\"T_7e4cca10_5667_11eb_8479_acde48001122row6_col4\" class=\"data row6 col4\" >0.864432</td>\n",
       "                        <td id=\"T_7e4cca10_5667_11eb_8479_acde48001122row6_col5\" class=\"data row6 col5\" >0.876034</td>\n",
       "                        <td id=\"T_7e4cca10_5667_11eb_8479_acde48001122row6_col6\" class=\"data row6 col6\" >0.848963</td>\n",
       "                        <td id=\"T_7e4cca10_5667_11eb_8479_acde48001122row6_col7\" class=\"data row6 col7\" >0.861980</td>\n",
       "                        <td id=\"T_7e4cca10_5667_11eb_8479_acde48001122row6_col8\" class=\"data row6 col8\" >0.854527</td>\n",
       "                        <td id=\"T_7e4cca10_5667_11eb_8479_acde48001122row6_col9\" class=\"data row6 col9\" >0.880142</td>\n",
       "                        <td id=\"T_7e4cca10_5667_11eb_8479_acde48001122row6_col10\" class=\"data row6 col10\" >0.866890</td>\n",
       "            </tr>\n",
       "            <tr>\n",
       "                        <th id=\"T_7e4cca10_5667_11eb_8479_acde48001122level0_row7\" class=\"row_heading level0 row7\" >37</th>\n",
       "                        <td id=\"T_7e4cca10_5667_11eb_8479_acde48001122row7_col0\" class=\"data row7 col0\" >{'tfidf__use_idf': True, 'vectorizer__max_df': 0.1, 'vectorizer__max_features': None, 'vectorizer__min_df': 1, 'vectorizer__ngram_range': (1, 2)}</td>\n",
       "                        <td id=\"T_7e4cca10_5667_11eb_8479_acde48001122row7_col1\" class=\"data row7 col1\" >0.858046</td>\n",
       "                        <td id=\"T_7e4cca10_5667_11eb_8479_acde48001122row7_col2\" class=\"data row7 col2\" >0.859539</td>\n",
       "                        <td id=\"T_7e4cca10_5667_11eb_8479_acde48001122row7_col3\" class=\"data row7 col3\" >0.858046</td>\n",
       "                        <td id=\"T_7e4cca10_5667_11eb_8479_acde48001122row7_col4\" class=\"data row7 col4\" >0.857889</td>\n",
       "                        <td id=\"T_7e4cca10_5667_11eb_8479_acde48001122row7_col5\" class=\"data row7 col5\" >0.880107</td>\n",
       "                        <td id=\"T_7e4cca10_5667_11eb_8479_acde48001122row7_col6\" class=\"data row7 col6\" >0.829118</td>\n",
       "                        <td id=\"T_7e4cca10_5667_11eb_8479_acde48001122row7_col7\" class=\"data row7 col7\" >0.853643</td>\n",
       "                        <td id=\"T_7e4cca10_5667_11eb_8479_acde48001122row7_col8\" class=\"data row7 col8\" >0.838925</td>\n",
       "                        <td id=\"T_7e4cca10_5667_11eb_8479_acde48001122row7_col9\" class=\"data row7 col9\" >0.887035</td>\n",
       "                        <td id=\"T_7e4cca10_5667_11eb_8479_acde48001122row7_col10\" class=\"data row7 col10\" >0.862143</td>\n",
       "            </tr>\n",
       "            <tr>\n",
       "                        <th id=\"T_7e4cca10_5667_11eb_8479_acde48001122level0_row8\" class=\"row_heading level0 row8\" >74</th>\n",
       "                        <td id=\"T_7e4cca10_5667_11eb_8479_acde48001122row8_col0\" class=\"data row8 col0\" >{'tfidf__use_idf': False, 'vectorizer__max_df': 0.5, 'vectorizer__max_features': None, 'vectorizer__min_df': 2, 'vectorizer__ngram_range': (1, 1)}</td>\n",
       "                        <td id=\"T_7e4cca10_5667_11eb_8479_acde48001122row8_col1\" class=\"data row8 col1\" >0.857945</td>\n",
       "                        <td id=\"T_7e4cca10_5667_11eb_8479_acde48001122row8_col2\" class=\"data row8 col2\" >0.860903</td>\n",
       "                        <td id=\"T_7e4cca10_5667_11eb_8479_acde48001122row8_col3\" class=\"data row8 col3\" >0.857945</td>\n",
       "                        <td id=\"T_7e4cca10_5667_11eb_8479_acde48001122row8_col4\" class=\"data row8 col4\" >0.857634</td>\n",
       "                        <td id=\"T_7e4cca10_5667_11eb_8479_acde48001122row8_col5\" class=\"data row8 col5\" >0.891989</td>\n",
       "                        <td id=\"T_7e4cca10_5667_11eb_8479_acde48001122row8_col6\" class=\"data row8 col6\" >0.814511</td>\n",
       "                        <td id=\"T_7e4cca10_5667_11eb_8479_acde48001122row8_col7\" class=\"data row8 col7\" >0.851295</td>\n",
       "                        <td id=\"T_7e4cca10_5667_11eb_8479_acde48001122row8_col8\" class=\"data row8 col8\" >0.829773</td>\n",
       "                        <td id=\"T_7e4cca10_5667_11eb_8479_acde48001122row8_col9\" class=\"data row8 col9\" >0.901440</td>\n",
       "                        <td id=\"T_7e4cca10_5667_11eb_8479_acde48001122row8_col10\" class=\"data row8 col10\" >0.863982</td>\n",
       "            </tr>\n",
       "            <tr>\n",
       "                        <th id=\"T_7e4cca10_5667_11eb_8479_acde48001122level0_row9\" class=\"row_heading level0 row9\" >0</th>\n",
       "                        <td id=\"T_7e4cca10_5667_11eb_8479_acde48001122row9_col0\" class=\"data row9 col0\" >{'tfidf__use_idf': True, 'vectorizer__max_df': 1.0, 'vectorizer__max_features': None, 'vectorizer__min_df': 1, 'vectorizer__ngram_range': (1, 1)}</td>\n",
       "                        <td id=\"T_7e4cca10_5667_11eb_8479_acde48001122row9_col1\" class=\"data row9 col1\" >0.856995</td>\n",
       "                        <td id=\"T_7e4cca10_5667_11eb_8479_acde48001122row9_col2\" class=\"data row9 col2\" >0.859141</td>\n",
       "                        <td id=\"T_7e4cca10_5667_11eb_8479_acde48001122row9_col3\" class=\"data row9 col3\" >0.856995</td>\n",
       "                        <td id=\"T_7e4cca10_5667_11eb_8479_acde48001122row9_col4\" class=\"data row9 col4\" >0.856758</td>\n",
       "                        <td id=\"T_7e4cca10_5667_11eb_8479_acde48001122row9_col5\" class=\"data row9 col5\" >0.885377</td>\n",
       "                        <td id=\"T_7e4cca10_5667_11eb_8479_acde48001122row9_col6\" class=\"data row9 col6\" >0.819887</td>\n",
       "                        <td id=\"T_7e4cca10_5667_11eb_8479_acde48001122row9_col7\" class=\"data row9 col7\" >0.851216</td>\n",
       "                        <td id=\"T_7e4cca10_5667_11eb_8479_acde48001122row9_col8\" class=\"data row9 col8\" >0.832884</td>\n",
       "                        <td id=\"T_7e4cca10_5667_11eb_8479_acde48001122row9_col9\" class=\"data row9 col9\" >0.894132</td>\n",
       "                        <td id=\"T_7e4cca10_5667_11eb_8479_acde48001122row9_col10\" class=\"data row9 col10\" >0.862303</td>\n",
       "            </tr>\n",
       "    </tbody></table>"
      ],
      "text/plain": [
       "<pandas.io.formats.style.Styler at 0x12688c310>"
      ]
     },
     "metadata": {},
     "output_type": "display_data"
    }
   ],
   "source": [
    "with pandas.option_context('display.max_colwidth', -1):\n",
    "    display(\n",
    "        pandas.DataFrame.from_dict(grid.cv_results_)\n",
    "        .sort_values('mean_test_f1', ascending=False)\n",
    "        [['params'] + ['mean_test_' + score for score in scoring.keys()]]\n",
    "        .rename(columns=lambda s: s[10:] if s.startswith('mean_test_') else s)\n",
    "        .head(10)\n",
    "        .style.highlight_max()\n",
    "    )"
   ]
  },
  {
   "cell_type": "markdown",
   "metadata": {},
   "source": [
    "Based on this, it seems we won't change a lot the results with parameter tuning. Anyway, we see that `ngram_range = (1, 2)` is a good shot, as well as `use_idf`. \n",
    "To prevent model overfitting, we will opt for `max_df = 0.1` (i.e., terms that are present in more than 10% of the comments will be ignored), as well as `min_df = 2` (i.e., terms that are only present in a single comment will be ignored). "
   ]
  },
  {
   "cell_type": "code",
   "execution_count": 138,
   "metadata": {},
   "outputs": [],
   "source": [
    "preprocessing = [\n",
    "    ('vectorizer', CountVectorizer(ngram_range=(1, 2), min_df=1, max_df=1.0, max_features=None)),\n",
    "    ('tfidf', TfidfTransformer(use_idf=True)),\n",
    "]"
   ]
  },
  {
   "cell_type": "markdown",
   "metadata": {},
   "source": [
    "## Classifier selection & parameter tuning"
   ]
  },
  {
   "cell_type": "markdown",
   "metadata": {},
   "source": [
    "Now, we can do a grid search on the classifiers and their parameters. "
   ]
  },
  {
   "cell_type": "code",
   "execution_count": 139,
   "metadata": {},
   "outputs": [],
   "source": [
    "from sklearn.model_selection import GridSearchCV\n",
    "\n",
    "X_train, y_train = df[df.training].comment, df[df.training].label\n",
    "groups = df[df.training].commenter\n",
    "\n",
    "resuts = dict()\n",
    "\n",
    "for name, estimator in classifiers.items():\n",
    "    pipeline = Pipeline(preprocessing + [(name, estimator)])\n",
    "    params = { k:v for k,v in classifier_params.items() if k.startswith(name)}\n",
    "    \n",
    "    grid = GridSearchCV(pipeline, params, scoring=scoring, refit='f1', cv=StratifiedGroupKFold(5), n_jobs=-1)\n",
    "    grid.fit(X_train, y_train, groups=groups)\n",
    "    \n",
    "    results[name] = {\n",
    "        'score': grid.best_score_, \n",
    "        'params': grid.best_params_, \n",
    "        'cv': grid.cv_results_,\n",
    "        'index': grid.best_index_,\n",
    "    }"
   ]
  },
  {
   "cell_type": "code",
   "execution_count": 143,
   "metadata": {},
   "outputs": [
    {
     "data": {
      "text/html": [
       "<div>\n",
       "<style scoped>\n",
       "    .dataframe tbody tr th:only-of-type {\n",
       "        vertical-align: middle;\n",
       "    }\n",
       "\n",
       "    .dataframe tbody tr th {\n",
       "        vertical-align: top;\n",
       "    }\n",
       "\n",
       "    .dataframe thead th {\n",
       "        text-align: right;\n",
       "    }\n",
       "</style>\n",
       "<table border=\"1\" class=\"dataframe\">\n",
       "  <thead>\n",
       "    <tr style=\"text-align: right;\">\n",
       "      <th></th>\n",
       "      <th>test</th>\n",
       "      <th>linear_svc</th>\n",
       "      <th>multinomial_nb</th>\n",
       "      <th>knn</th>\n",
       "      <th>rndfrst</th>\n",
       "      <th>zeror</th>\n",
       "    </tr>\n",
       "  </thead>\n",
       "  <tbody>\n",
       "    <tr>\n",
       "      <th>accuracy</th>\n",
       "      <td>0.792105</td>\n",
       "      <td>NaN</td>\n",
       "      <td>NaN</td>\n",
       "      <td>NaN</td>\n",
       "      <td>NaN</td>\n",
       "      <td>NaN</td>\n",
       "    </tr>\n",
       "    <tr>\n",
       "      <th>precision</th>\n",
       "      <td>0.846072</td>\n",
       "      <td>NaN</td>\n",
       "      <td>NaN</td>\n",
       "      <td>NaN</td>\n",
       "      <td>NaN</td>\n",
       "      <td>NaN</td>\n",
       "    </tr>\n",
       "    <tr>\n",
       "      <th>recall</th>\n",
       "      <td>0.792105</td>\n",
       "      <td>NaN</td>\n",
       "      <td>NaN</td>\n",
       "      <td>NaN</td>\n",
       "      <td>NaN</td>\n",
       "      <td>NaN</td>\n",
       "    </tr>\n",
       "    <tr>\n",
       "      <th>f1</th>\n",
       "      <td>0.787089</td>\n",
       "      <td>NaN</td>\n",
       "      <td>NaN</td>\n",
       "      <td>NaN</td>\n",
       "      <td>NaN</td>\n",
       "      <td>NaN</td>\n",
       "    </tr>\n",
       "    <tr>\n",
       "      <th>precision_bot</th>\n",
       "      <td>0.696000</td>\n",
       "      <td>NaN</td>\n",
       "      <td>NaN</td>\n",
       "      <td>NaN</td>\n",
       "      <td>NaN</td>\n",
       "      <td>NaN</td>\n",
       "    </tr>\n",
       "    <tr>\n",
       "      <th>recall_bot</th>\n",
       "      <td>0.983051</td>\n",
       "      <td>NaN</td>\n",
       "      <td>NaN</td>\n",
       "      <td>NaN</td>\n",
       "      <td>NaN</td>\n",
       "      <td>NaN</td>\n",
       "    </tr>\n",
       "    <tr>\n",
       "      <th>f1_bot</th>\n",
       "      <td>0.814988</td>\n",
       "      <td>NaN</td>\n",
       "      <td>NaN</td>\n",
       "      <td>NaN</td>\n",
       "      <td>NaN</td>\n",
       "      <td>NaN</td>\n",
       "    </tr>\n",
       "    <tr>\n",
       "      <th>precision_human</th>\n",
       "      <td>0.976923</td>\n",
       "      <td>NaN</td>\n",
       "      <td>NaN</td>\n",
       "      <td>NaN</td>\n",
       "      <td>NaN</td>\n",
       "      <td>NaN</td>\n",
       "    </tr>\n",
       "    <tr>\n",
       "      <th>recall_human</th>\n",
       "      <td>0.625616</td>\n",
       "      <td>NaN</td>\n",
       "      <td>NaN</td>\n",
       "      <td>NaN</td>\n",
       "      <td>NaN</td>\n",
       "      <td>NaN</td>\n",
       "    </tr>\n",
       "    <tr>\n",
       "      <th>f1_human</th>\n",
       "      <td>0.762763</td>\n",
       "      <td>NaN</td>\n",
       "      <td>NaN</td>\n",
       "      <td>NaN</td>\n",
       "      <td>NaN</td>\n",
       "      <td>NaN</td>\n",
       "    </tr>\n",
       "    <tr>\n",
       "      <th>score</th>\n",
       "      <td>NaN</td>\n",
       "      <td>0.845378</td>\n",
       "      <td>0.871881</td>\n",
       "      <td>0.647742</td>\n",
       "      <td>0.727304</td>\n",
       "      <td>0.332174</td>\n",
       "    </tr>\n",
       "    <tr>\n",
       "      <th>params</th>\n",
       "      <td>NaN</td>\n",
       "      <td>{'linear_svc__kernel': 'sigmoid'}</td>\n",
       "      <td>{'multinomial_nb__alpha': 1.5, 'multinomial_nb__fit_prior': False}</td>\n",
       "      <td>{'knn__leaf_size': 5, 'knn__n_neighbors': 1}</td>\n",
       "      <td>{'rndfrst__criterion': 'gini', 'rndfrst__max_depth': 8, 'rndfrst__n_estimators': 10}</td>\n",
       "      <td>{}</td>\n",
       "    </tr>\n",
       "  </tbody>\n",
       "</table>\n",
       "</div>"
      ],
      "text/plain": [
       "                     test                         linear_svc  \\\n",
       "accuracy         0.792105  NaN                                 \n",
       "precision        0.846072  NaN                                 \n",
       "recall           0.792105  NaN                                 \n",
       "f1               0.787089  NaN                                 \n",
       "precision_bot    0.696000  NaN                                 \n",
       "recall_bot       0.983051  NaN                                 \n",
       "f1_bot           0.814988  NaN                                 \n",
       "precision_human  0.976923  NaN                                 \n",
       "recall_human     0.625616  NaN                                 \n",
       "f1_human         0.762763  NaN                                 \n",
       "score           NaN        0.845378                            \n",
       "params          NaN        {'linear_svc__kernel': 'sigmoid'}   \n",
       "\n",
       "                                                                     multinomial_nb  \\\n",
       "accuracy         NaN                                                                  \n",
       "precision        NaN                                                                  \n",
       "recall           NaN                                                                  \n",
       "f1               NaN                                                                  \n",
       "precision_bot    NaN                                                                  \n",
       "recall_bot       NaN                                                                  \n",
       "f1_bot           NaN                                                                  \n",
       "precision_human  NaN                                                                  \n",
       "recall_human     NaN                                                                  \n",
       "f1_human         NaN                                                                  \n",
       "score            0.871881                                                             \n",
       "params           {'multinomial_nb__alpha': 1.5, 'multinomial_nb__fit_prior': False}   \n",
       "\n",
       "                                                          knn  \\\n",
       "accuracy         NaN                                            \n",
       "precision        NaN                                            \n",
       "recall           NaN                                            \n",
       "f1               NaN                                            \n",
       "precision_bot    NaN                                            \n",
       "recall_bot       NaN                                            \n",
       "f1_bot           NaN                                            \n",
       "precision_human  NaN                                            \n",
       "recall_human     NaN                                            \n",
       "f1_human         NaN                                            \n",
       "score            0.647742                                       \n",
       "params           {'knn__leaf_size': 5, 'knn__n_neighbors': 1}   \n",
       "\n",
       "                                                                                              rndfrst  \\\n",
       "accuracy         NaN                                                                                    \n",
       "precision        NaN                                                                                    \n",
       "recall           NaN                                                                                    \n",
       "f1               NaN                                                                                    \n",
       "precision_bot    NaN                                                                                    \n",
       "recall_bot       NaN                                                                                    \n",
       "f1_bot           NaN                                                                                    \n",
       "precision_human  NaN                                                                                    \n",
       "recall_human     NaN                                                                                    \n",
       "f1_human         NaN                                                                                    \n",
       "score            0.727304                                                                               \n",
       "params           {'rndfrst__criterion': 'gini', 'rndfrst__max_depth': 8, 'rndfrst__n_estimators': 10}   \n",
       "\n",
       "                    zeror  \n",
       "accuracy         NaN       \n",
       "precision        NaN       \n",
       "recall           NaN       \n",
       "f1               NaN       \n",
       "precision_bot    NaN       \n",
       "recall_bot       NaN       \n",
       "f1_bot           NaN       \n",
       "precision_human  NaN       \n",
       "recall_human     NaN       \n",
       "f1_human         NaN       \n",
       "score            0.332174  \n",
       "params           {}        "
      ]
     },
     "metadata": {},
     "output_type": "display_data"
    }
   ],
   "source": [
    "with pandas.option_context('display.max_colwidth', -1):\n",
    "    display(\n",
    "        pandas.DataFrame.from_dict(results)\n",
    "        .drop(['cv', 'index'])\n",
    "    )"
   ]
  },
  {
   "cell_type": "markdown",
   "metadata": {},
   "source": [
    "Let's have a deeper look at the scores: "
   ]
  },
  {
   "cell_type": "code",
   "execution_count": 144,
   "metadata": {},
   "outputs": [
    {
     "data": {
      "text/html": [
       "<style  type=\"text/css\" >\n",
       "#T_b29cc046_5684_11eb_8479_acde48001122row0_col1,#T_b29cc046_5684_11eb_8479_acde48001122row1_col0,#T_b29cc046_5684_11eb_8479_acde48001122row1_col2,#T_b29cc046_5684_11eb_8479_acde48001122row1_col3,#T_b29cc046_5684_11eb_8479_acde48001122row1_col5,#T_b29cc046_5684_11eb_8479_acde48001122row1_col6,#T_b29cc046_5684_11eb_8479_acde48001122row1_col7,#T_b29cc046_5684_11eb_8479_acde48001122row1_col9,#T_b29cc046_5684_11eb_8479_acde48001122row2_col4,#T_b29cc046_5684_11eb_8479_acde48001122row2_col8{\n",
       "            background-color:  yellow;\n",
       "        }</style><table id=\"T_b29cc046_5684_11eb_8479_acde48001122\" ><thead>    <tr>        <th class=\"blank level0\" ></th>        <th class=\"col_heading level0 col0\" >accuracy</th>        <th class=\"col_heading level0 col1\" >precision</th>        <th class=\"col_heading level0 col2\" >recall</th>        <th class=\"col_heading level0 col3\" >f1</th>        <th class=\"col_heading level0 col4\" >precision_bot</th>        <th class=\"col_heading level0 col5\" >recall_bot</th>        <th class=\"col_heading level0 col6\" >f1_bot</th>        <th class=\"col_heading level0 col7\" >precision_human</th>        <th class=\"col_heading level0 col8\" >recall_human</th>        <th class=\"col_heading level0 col9\" >f1_human</th>    </tr></thead><tbody>\n",
       "                <tr>\n",
       "                        <th id=\"T_b29cc046_5684_11eb_8479_acde48001122level0_row0\" class=\"row_heading level0 row0\" >linear_svc</th>\n",
       "                        <td id=\"T_b29cc046_5684_11eb_8479_acde48001122row0_col0\" class=\"data row0 col0\" >0.848223</td>\n",
       "                        <td id=\"T_b29cc046_5684_11eb_8479_acde48001122row0_col1\" class=\"data row0 col1\" >0.874151</td>\n",
       "                        <td id=\"T_b29cc046_5684_11eb_8479_acde48001122row0_col2\" class=\"data row0 col2\" >0.848223</td>\n",
       "                        <td id=\"T_b29cc046_5684_11eb_8479_acde48001122row0_col3\" class=\"data row0 col3\" >0.845378</td>\n",
       "                        <td id=\"T_b29cc046_5684_11eb_8479_acde48001122row0_col4\" class=\"data row0 col4\" >0.971157</td>\n",
       "                        <td id=\"T_b29cc046_5684_11eb_8479_acde48001122row0_col5\" class=\"data row0 col5\" >0.717784</td>\n",
       "                        <td id=\"T_b29cc046_5684_11eb_8479_acde48001122row0_col6\" class=\"data row0 col6\" >0.824705</td>\n",
       "                        <td id=\"T_b29cc046_5684_11eb_8479_acde48001122row0_col7\" class=\"data row0 col7\" >0.777118</td>\n",
       "                        <td id=\"T_b29cc046_5684_11eb_8479_acde48001122row0_col8\" class=\"data row0 col8\" >0.978700</td>\n",
       "                        <td id=\"T_b29cc046_5684_11eb_8479_acde48001122row0_col9\" class=\"data row0 col9\" >0.866057</td>\n",
       "            </tr>\n",
       "            <tr>\n",
       "                        <th id=\"T_b29cc046_5684_11eb_8479_acde48001122level0_row1\" class=\"row_heading level0 row1\" >multinomial_nb</th>\n",
       "                        <td id=\"T_b29cc046_5684_11eb_8479_acde48001122row1_col0\" class=\"data row1 col0\" >0.871934</td>\n",
       "                        <td id=\"T_b29cc046_5684_11eb_8479_acde48001122row1_col1\" class=\"data row1 col1\" >0.872586</td>\n",
       "                        <td id=\"T_b29cc046_5684_11eb_8479_acde48001122row1_col2\" class=\"data row1 col2\" >0.871934</td>\n",
       "                        <td id=\"T_b29cc046_5684_11eb_8479_acde48001122row1_col3\" class=\"data row1 col3\" >0.871881</td>\n",
       "                        <td id=\"T_b29cc046_5684_11eb_8479_acde48001122row1_col4\" class=\"data row1 col4\" >0.864021</td>\n",
       "                        <td id=\"T_b29cc046_5684_11eb_8479_acde48001122row1_col5\" class=\"data row1 col5\" >0.882530</td>\n",
       "                        <td id=\"T_b29cc046_5684_11eb_8479_acde48001122row1_col6\" class=\"data row1 col6\" >0.872908</td>\n",
       "                        <td id=\"T_b29cc046_5684_11eb_8479_acde48001122row1_col7\" class=\"data row1 col7\" >0.881142</td>\n",
       "                        <td id=\"T_b29cc046_5684_11eb_8479_acde48001122row1_col8\" class=\"data row1 col8\" >0.861350</td>\n",
       "                        <td id=\"T_b29cc046_5684_11eb_8479_acde48001122row1_col9\" class=\"data row1 col9\" >0.870855</td>\n",
       "            </tr>\n",
       "            <tr>\n",
       "                        <th id=\"T_b29cc046_5684_11eb_8479_acde48001122level0_row2\" class=\"row_heading level0 row2\" >knn</th>\n",
       "                        <td id=\"T_b29cc046_5684_11eb_8479_acde48001122row2_col0\" class=\"data row2 col0\" >0.683091</td>\n",
       "                        <td id=\"T_b29cc046_5684_11eb_8479_acde48001122row2_col1\" class=\"data row2 col1\" >0.802769</td>\n",
       "                        <td id=\"T_b29cc046_5684_11eb_8479_acde48001122row2_col2\" class=\"data row2 col2\" >0.683091</td>\n",
       "                        <td id=\"T_b29cc046_5684_11eb_8479_acde48001122row2_col3\" class=\"data row2 col3\" >0.647742</td>\n",
       "                        <td id=\"T_b29cc046_5684_11eb_8479_acde48001122row2_col4\" class=\"data row2 col4\" >0.992623</td>\n",
       "                        <td id=\"T_b29cc046_5684_11eb_8479_acde48001122row2_col5\" class=\"data row2 col5\" >0.369023</td>\n",
       "                        <td id=\"T_b29cc046_5684_11eb_8479_acde48001122row2_col6\" class=\"data row2 col6\" >0.536488</td>\n",
       "                        <td id=\"T_b29cc046_5684_11eb_8479_acde48001122row2_col7\" class=\"data row2 col7\" >0.612843</td>\n",
       "                        <td id=\"T_b29cc046_5684_11eb_8479_acde48001122row2_col8\" class=\"data row2 col8\" >0.997284</td>\n",
       "                        <td id=\"T_b29cc046_5684_11eb_8479_acde48001122row2_col9\" class=\"data row2 col9\" >0.759036</td>\n",
       "            </tr>\n",
       "            <tr>\n",
       "                        <th id=\"T_b29cc046_5684_11eb_8479_acde48001122level0_row3\" class=\"row_heading level0 row3\" >rndfrst</th>\n",
       "                        <td id=\"T_b29cc046_5684_11eb_8479_acde48001122row3_col0\" class=\"data row3 col0\" >0.738615</td>\n",
       "                        <td id=\"T_b29cc046_5684_11eb_8479_acde48001122row3_col1\" class=\"data row3 col1\" >0.784950</td>\n",
       "                        <td id=\"T_b29cc046_5684_11eb_8479_acde48001122row3_col2\" class=\"data row3 col2\" >0.738615</td>\n",
       "                        <td id=\"T_b29cc046_5684_11eb_8479_acde48001122row3_col3\" class=\"data row3 col3\" >0.727304</td>\n",
       "                        <td id=\"T_b29cc046_5684_11eb_8479_acde48001122row3_col4\" class=\"data row3 col4\" >0.897645</td>\n",
       "                        <td id=\"T_b29cc046_5684_11eb_8479_acde48001122row3_col5\" class=\"data row3 col5\" >0.541896</td>\n",
       "                        <td id=\"T_b29cc046_5684_11eb_8479_acde48001122row3_col6\" class=\"data row3 col6\" >0.672958</td>\n",
       "                        <td id=\"T_b29cc046_5684_11eb_8479_acde48001122row3_col7\" class=\"data row3 col7\" >0.672150</td>\n",
       "                        <td id=\"T_b29cc046_5684_11eb_8479_acde48001122row3_col8\" class=\"data row3 col8\" >0.935485</td>\n",
       "                        <td id=\"T_b29cc046_5684_11eb_8479_acde48001122row3_col9\" class=\"data row3 col9\" >0.781695</td>\n",
       "            </tr>\n",
       "            <tr>\n",
       "                        <th id=\"T_b29cc046_5684_11eb_8479_acde48001122level0_row4\" class=\"row_heading level0 row4\" >zeror</th>\n",
       "                        <td id=\"T_b29cc046_5684_11eb_8479_acde48001122row4_col0\" class=\"data row4 col0\" >0.498956</td>\n",
       "                        <td id=\"T_b29cc046_5684_11eb_8479_acde48001122row4_col1\" class=\"data row4 col1\" >0.248957</td>\n",
       "                        <td id=\"T_b29cc046_5684_11eb_8479_acde48001122row4_col2\" class=\"data row4 col2\" >0.498956</td>\n",
       "                        <td id=\"T_b29cc046_5684_11eb_8479_acde48001122row4_col3\" class=\"data row4 col3\" >0.332174</td>\n",
       "                        <td id=\"T_b29cc046_5684_11eb_8479_acde48001122row4_col4\" class=\"data row4 col4\" >0.199529</td>\n",
       "                        <td id=\"T_b29cc046_5684_11eb_8479_acde48001122row4_col5\" class=\"data row4 col5\" >0.400000</td>\n",
       "                        <td id=\"T_b29cc046_5684_11eb_8479_acde48001122row4_col6\" class=\"data row4 col6\" >0.266248</td>\n",
       "                        <td id=\"T_b29cc046_5684_11eb_8479_acde48001122row4_col7\" class=\"data row4 col7\" >0.299427</td>\n",
       "                        <td id=\"T_b29cc046_5684_11eb_8479_acde48001122row4_col8\" class=\"data row4 col8\" >0.600000</td>\n",
       "                        <td id=\"T_b29cc046_5684_11eb_8479_acde48001122row4_col9\" class=\"data row4 col9\" >0.399490</td>\n",
       "            </tr>\n",
       "    </tbody></table>"
      ],
      "text/plain": [
       "<pandas.io.formats.style.Styler at 0x132bf0130>"
      ]
     },
     "execution_count": 144,
     "metadata": {},
     "output_type": "execute_result"
    }
   ],
   "source": [
    "temp = dict()\n",
    "\n",
    "for name in classifiers.keys():\n",
    "    cv = results[name]['cv']\n",
    "    index = results[name]['index']\n",
    "    temp[name] = {score: cv['mean_test_' + score][index] for score in scoring.keys()}\n",
    "\n",
    "pandas.DataFrame.from_dict(temp).T.style.highlight_max()"
   ]
  },
  {
   "cell_type": "code",
   "execution_count": 146,
   "metadata": {},
   "outputs": [
    {
     "data": {
      "text/plain": [
       "'\\\\begin{tabular}{lrrrrrrr}\\n\\\\toprule\\n{} &  precision\\\\_bot &  recall\\\\_bot &  precision\\\\_human &  recall\\\\_human &  precision &  recall &     f1 \\\\\\\\\\n\\\\midrule\\nmultinomial\\\\_nb &          0.864 &       0.883 &            0.881 &         0.861 &      0.873 &   0.872 &  0.872 \\\\\\\\\\nlinear\\\\_svc     &          0.971 &       0.718 &            0.777 &         0.979 &      0.874 &   0.848 &  0.845 \\\\\\\\\\nrndfrst        &          0.898 &       0.542 &            0.672 &         0.935 &      0.785 &   0.739 &  0.727 \\\\\\\\\\nknn            &          0.993 &       0.369 &            0.613 &         0.997 &      0.803 &   0.683 &  0.648 \\\\\\\\\\nzeror          &          0.200 &       0.400 &            0.299 &         0.600 &      0.249 &   0.499 &  0.332 \\\\\\\\\\n\\\\bottomrule\\n\\\\end{tabular}\\n'"
      ]
     },
     "execution_count": 146,
     "metadata": {},
     "output_type": "execute_result"
    }
   ],
   "source": [
    "(\n",
    "    pandas.DataFrame.from_dict(temp).T\n",
    "    [['precision_bot','recall_bot','precision_human','recall_human','precision','recall','f1']]\n",
    "    .sort_values('f1',ascending=False)\n",
    "    .round(3).to_latex()\n",
    ")"
   ]
  },
  {
   "cell_type": "markdown",
   "metadata": {},
   "source": [
    "We'll then use **multinomial_nb** with its best parameters. "
   ]
  },
  {
   "cell_type": "markdown",
   "metadata": {},
   "source": [
    "## Model evaluation"
   ]
  },
  {
   "cell_type": "code",
   "execution_count": 147,
   "metadata": {},
   "outputs": [],
   "source": [
    "pipeline = Pipeline(\n",
    "    preprocessing + [\n",
    "        ('classifier', MultinomialNB(alpha=1.5,fit_prior=False))\n",
    "])"
   ]
  },
  {
   "cell_type": "markdown",
   "metadata": {},
   "source": [
    "Let's train and apply it on unseen data. "
   ]
  },
  {
   "cell_type": "code",
   "execution_count": 148,
   "metadata": {},
   "outputs": [
    {
     "data": {
      "text/plain": [
       "Pipeline(memory=None,\n",
       "         steps=[('vectorizer',\n",
       "                 CountVectorizer(analyzer='word', binary=False,\n",
       "                                 decode_error='strict',\n",
       "                                 dtype=<class 'numpy.int64'>, encoding='utf-8',\n",
       "                                 input='content', lowercase=True, max_df=1.0,\n",
       "                                 max_features=None, min_df=1,\n",
       "                                 ngram_range=(1, 2), preprocessor=None,\n",
       "                                 stop_words=None, strip_accents=None,\n",
       "                                 token_pattern='(?u)\\\\b\\\\w\\\\w+\\\\b',\n",
       "                                 tokenizer=None, vocabulary=None)),\n",
       "                ('tfidf',\n",
       "                 TfidfTransformer(norm='l2', smooth_idf=True,\n",
       "                                  sublinear_tf=False, use_idf=True)),\n",
       "                ('classifier',\n",
       "                 MultinomialNB(alpha=1.5, class_prior=None, fit_prior=False))],\n",
       "         verbose=False)"
      ]
     },
     "execution_count": 148,
     "metadata": {},
     "output_type": "execute_result"
    }
   ],
   "source": [
    "X_train, y_train = df[df.training].comment, df[df.training].label\n",
    "X_test, y_test = df[~df.training].comment, df[~df.training].label\n",
    "\n",
    "pipeline.fit(X_train, y_train)"
   ]
  },
  {
   "cell_type": "markdown",
   "metadata": {},
   "source": [
    "We'll store the predictions, and the associated probability, and merge it back to a single dataframe."
   ]
  },
  {
   "cell_type": "code",
   "execution_count": 149,
   "metadata": {},
   "outputs": [],
   "source": [
    "y_pred = pipeline.predict(X_test)\n",
    "y_proba = pipeline.predict_proba(X_test)"
   ]
  },
  {
   "cell_type": "code",
   "execution_count": 150,
   "metadata": {},
   "outputs": [],
   "source": [
    "(\n",
    "    df[~df.training]\n",
    "    .drop(columns=['training'])\n",
    "    .assign(pred=y_pred)\n",
    "    .assign(proba=[i[0] for i in y_proba])\n",
    "    .assign(proba=lambda d: d['proba'].where(d['pred'] == 0, 1 - d['proba']))\n",
    "    .to_csv('predictions.csv.gz', index=False, compression='gzip')\n",
    ")"
   ]
  },
  {
   "cell_type": "markdown",
   "metadata": {},
   "source": [
    "These results will be analyzed in the other notebook. \n",
    "For now, let's just have a look at the scores. We computed the scores both for the training and test set. \n",
    "The rationale behind the computation of those scores for the training set is to see how \"overfit\" the model could be."
   ]
  },
  {
   "cell_type": "code",
   "execution_count": 151,
   "metadata": {},
   "outputs": [],
   "source": [
    "results = {'test': dict(), 'train': dict()}\n",
    "\n",
    "for name, scorer in scoring.items():\n",
    "    results['test'][name] = scorer(pipeline, X_test, y_test)\n",
    "    results['train'][name] = scorer(pipeline, X_train, y_train)"
   ]
  },
  {
   "cell_type": "code",
   "execution_count": 153,
   "metadata": {},
   "outputs": [
    {
     "data": {
      "text/html": [
       "<div>\n",
       "<style scoped>\n",
       "    .dataframe tbody tr th:only-of-type {\n",
       "        vertical-align: middle;\n",
       "    }\n",
       "\n",
       "    .dataframe tbody tr th {\n",
       "        vertical-align: top;\n",
       "    }\n",
       "\n",
       "    .dataframe thead th {\n",
       "        text-align: right;\n",
       "    }\n",
       "</style>\n",
       "<table border=\"1\" class=\"dataframe\">\n",
       "  <thead>\n",
       "    <tr style=\"text-align: right;\">\n",
       "      <th></th>\n",
       "      <th>accuracy</th>\n",
       "      <th>precision</th>\n",
       "      <th>recall</th>\n",
       "      <th>f1</th>\n",
       "      <th>precision_bot</th>\n",
       "      <th>recall_bot</th>\n",
       "      <th>f1_bot</th>\n",
       "      <th>precision_human</th>\n",
       "      <th>recall_human</th>\n",
       "      <th>f1_human</th>\n",
       "    </tr>\n",
       "  </thead>\n",
       "  <tbody>\n",
       "    <tr>\n",
       "      <th>test</th>\n",
       "      <td>0.881674</td>\n",
       "      <td>0.882405</td>\n",
       "      <td>0.881674</td>\n",
       "      <td>0.881618</td>\n",
       "      <td>0.865666</td>\n",
       "      <td>0.903505</td>\n",
       "      <td>0.884181</td>\n",
       "      <td>0.899138</td>\n",
       "      <td>0.859852</td>\n",
       "      <td>0.879056</td>\n",
       "    </tr>\n",
       "    <tr>\n",
       "      <th>train</th>\n",
       "      <td>0.971399</td>\n",
       "      <td>0.971952</td>\n",
       "      <td>0.971399</td>\n",
       "      <td>0.971390</td>\n",
       "      <td>0.955802</td>\n",
       "      <td>0.988520</td>\n",
       "      <td>0.971886</td>\n",
       "      <td>0.988108</td>\n",
       "      <td>0.954270</td>\n",
       "      <td>0.970894</td>\n",
       "    </tr>\n",
       "  </tbody>\n",
       "</table>\n",
       "</div>"
      ],
      "text/plain": [
       "       accuracy  precision    recall        f1  precision_bot  recall_bot  \\\n",
       "test   0.881674   0.882405  0.881674  0.881618       0.865666    0.903505   \n",
       "train  0.971399   0.971952  0.971399  0.971390       0.955802    0.988520   \n",
       "\n",
       "         f1_bot  precision_human  recall_human  f1_human  \n",
       "test   0.884181         0.899138      0.859852  0.879056  \n",
       "train  0.971886         0.988108      0.954270  0.970894  "
      ]
     },
     "execution_count": 153,
     "metadata": {},
     "output_type": "execute_result"
    }
   ],
   "source": [
    "(\n",
    "    pandas.DataFrame.from_dict(results)\n",
    "    .T\n",
    ")"
   ]
  },
  {
   "cell_type": "code",
   "execution_count": 159,
   "metadata": {},
   "outputs": [],
   "source": [
    "dfprob = (\n",
    "    df[~df.training]\n",
    "    .drop(columns=['training'])\n",
    "    .assign(pred=y_pred)\n",
    "    .assign(probability=[i[0] for i in y_proba])\n",
    "    .assign(probability=lambda d:  1 - d['probability'])\n",
    ")"
   ]
  },
  {
   "cell_type": "code",
   "execution_count": 366,
   "metadata": {},
   "outputs": [
    {
     "data": {
      "image/png": "[encoded data removed]",
      "text/plain": [
       "<Figure size 360x158.4 with 1 Axes>"
      ]
     },
     "metadata": {
      "needs_background": "light"
     },
     "output_type": "display_data"
    }
   ],
   "source": [
    "import seaborn\n",
    "\n",
    "dftmp = (\n",
    "        dfprob\n",
    "        .assign(\n",
    "            bot = lambda x: np.where(x['label']==1,'bot','human'),\n",
    "            prediction = lambda x: np.where(x['pred']==1,'bot','human')\n",
    "        )\n",
    "    )\n",
    "\n",
    "fig, ax = plt.subplots(figsize=(5,2.2))\n",
    "\n",
    "# N = 1000\n",
    "\n",
    "# from_x = np.linspace(0,1,N)\n",
    "# to_x = from_x + 1/1000\n",
    "\n",
    "# for i in range(N):\n",
    "    \n",
    "#     gi = 0.\n",
    "#     bi = float(i)/float(N)\n",
    "#     ri = 1.-bi\n",
    "\n",
    "#     ax.axvspan(from_x[i], to_x[i], color=(ri,gi,bi), alpha=0.05)\n",
    "\n",
    "plt.axvspan(.5, 1, facecolor='b', alpha=0.1)\n",
    "plt.axvspan(0, .5, facecolor='orange', alpha=0.1)\n",
    "\n",
    "\n",
    "ax = seaborn.boxenplot(\n",
    "    x='probability',\n",
    "    y='bot',\n",
    "#     palette=[\"gray\"],\n",
    "    data=dftmp,\n",
    ")\n",
    "# ax = seaborn.swarmplot(\n",
    "#      data=dftmp[lambda x: x['label'] != x['pred']], x=\"probability\", y=\"bot\", hue='label',size=2,color='black')\n",
    "\n",
    "plt.text(0.27, 1.06,'prediction: human',\n",
    "     horizontalalignment='center',\n",
    "     verticalalignment='center',\n",
    "     transform = ax.transAxes)\n",
    "plt.text(0.73, 1.06,'prediction: bot',\n",
    "     horizontalalignment='center',\n",
    "     verticalalignment='center',\n",
    "     transform = ax.transAxes)\n",
    "\n",
    "# plt.axvspan(.5, 1, facecolor='b', alpha=0.1)\n",
    "# plt.axvspan(0, .5, facecolor='orange', alpha=0.1)\n",
    "\n",
    "\n",
    "ax.set_xlabel('probability of predictions')\n",
    "ax.set_ylabel('')\n",
    "# ax.get_legend().remove()\n",
    "# ax.set_ylim(-.05,1.05)\n",
    "ax.vlines(0.5, -0.5, 1.5, colors='r', alpha=0.2)\n",
    "fig.savefig('figures/prediction.pdf',bbox_inches='tight')"
   ]
  },
  {
   "cell_type": "code",
   "execution_count": 329,
   "metadata": {},
   "outputs": [
    {
     "data": {
      "image/png": "[encoded data removed]",
      "text/plain": [
       "<Figure size 576x216 with 1 Axes>"
      ]
     },
     "metadata": {
      "needs_background": "light"
     },
     "output_type": "display_data"
    }
   ],
   "source": [
    "import seaborn\n",
    "\n",
    "dftmp = (\n",
    "        dfprob\n",
    "        .assign(\n",
    "            bot = lambda x: np.where(x['label']==1,'bot','human'),\n",
    "            prediction = lambda x: np.where(x['pred']==1,'bot','human')\n",
    "        )\n",
    "    )\n",
    "\n",
    "fig, ax = plt.subplots(figsize=FIG_SIZE)\n",
    "\n",
    "# N = 1000\n",
    "\n",
    "# from_x = np.linspace(0,1,N)\n",
    "# to_x = from_x + 1/1000\n",
    "\n",
    "# for i in range(N):\n",
    "    \n",
    "#     gi = 0.\n",
    "#     bi = float(i)/float(N)\n",
    "#     ri = 1.-bi\n",
    "\n",
    "#     ax.axvspan(from_x[i], to_x[i], color=(ri,gi,bi), alpha=0.05)\n",
    "\n",
    "plt.axvspan(.5, 1, facecolor='b', alpha=0.1)\n",
    "plt.axvspan(0, .5, facecolor='orange', alpha=0.1)\n",
    "\n",
    "\n",
    "ax = seaborn.boxplot(\n",
    "    x='probability',\n",
    "    y='bot',\n",
    "#     palette=[\"gray\"],\n",
    "    data=dftmp,\n",
    ")\n",
    "# ax = seaborn.swarmplot(\n",
    "#      data=dftmp[lambda x: x['label'] != x['pred']], x=\"probability\", y=\"bot\", hue='label',size=2,color='black')\n",
    "\n",
    "plt.text(0.27, 1.04,'prediction: human',\n",
    "     horizontalalignment='center',\n",
    "     verticalalignment='center',\n",
    "     transform = ax.transAxes)\n",
    "plt.text(0.73, 1.04,'prediction: bot',\n",
    "     horizontalalignment='center',\n",
    "     verticalalignment='center',\n",
    "     transform = ax.transAxes)\n",
    "\n",
    "# plt.axvspan(.5, 1, facecolor='b', alpha=0.1)\n",
    "# plt.axvspan(0, .5, facecolor='orange', alpha=0.1)\n",
    "\n",
    "\n",
    "ax.set_xlabel('probability of predictions')\n",
    "ax.set_ylabel('')\n",
    "ax.legend(labels=[])\n",
    "# ax.get_legend().remove()\n",
    "# ax.set_ylim(-.05,1.05)\n",
    "ax.vlines(0.5, -0.5, 1.5, colors='r', alpha=0.2)\n",
    "fig.savefig('figures/prediction3.pdf',bbox_inches='tight')"
   ]
  },
  {
   "cell_type": "code",
   "execution_count": 247,
   "metadata": {},
   "outputs": [
    {
     "data": {
      "image/png": "[encoded data removed]",
      "text/plain": [
       "<Figure size 576x216 with 1 Axes>"
      ]
     },
     "metadata": {
      "needs_background": "light"
     },
     "output_type": "display_data"
    }
   ],
   "source": [
    "import seaborn\n",
    "\n",
    "fig, ax = plt.subplots(figsize=FIG_SIZE)\n",
    "ax = seaborn.scatterplot(\n",
    "    x='probability',\n",
    "    y='cmlength',\n",
    "    hue='bot',\n",
    "    s=5,\n",
    "    data=(\n",
    "        dfprob[lambda x:x['pred']==x['label']]\n",
    "        .assign(\n",
    "            bot = lambda x: np.where(x['label']==1,'bot correct','human correct'),\n",
    "            prediction = lambda x: np.where(x['pred']==1,'bot','human'),\n",
    "            cmlength = lambda x: x['comment'].str.len(), \n",
    "            predtype = lambda x: np.where(x['pred']==x['label'],'correct predictions','incorrect predictions')\n",
    "        )\n",
    "    ),\n",
    ")\n",
    "ax = seaborn.scatterplot(\n",
    "    x='probability',\n",
    "    y='cmlength',\n",
    "    hue='bot',\n",
    "    s=5,\n",
    "    palette=['black','red'],\n",
    "    data=(\n",
    "        dfprob[lambda x:x['pred']!=x['label']]\n",
    "        .assign(\n",
    "            bot = lambda x: np.where(x['label']==1,'bot incorrect','human incorrect'),\n",
    "            prediction = lambda x: np.where(x['pred']==1,'bot','human'),\n",
    "            cmlength = lambda x: x['comment'].str.len(), \n",
    "            predtype = lambda x: np.where(x['pred']==x['label'],'correct predictions','incorrect predictions')\n",
    "        )\n",
    "    ),\n",
    ")\n",
    "\n",
    "ax.set_xlabel('')\n",
    "ax.set_ylabel('comment length (log)')\n",
    "ax.set_yscale('log')\n",
    "# ax.set_ylim(-.05,1.05)\n",
    "# ax.hlines(0.5, -0.5, 1.5, colors='r', alpha=0.2)\n",
    "ax.legend(title='',loc='lower left')\n",
    "fig.savefig('figures/prediction3.pdf',bbox_inches='tight')"
   ]
  },
  {
   "cell_type": "code",
   "execution_count": 388,
   "metadata": {},
   "outputs": [
    {
     "data": {
      "text/html": [
       "<div>\n",
       "<style scoped>\n",
       "    .dataframe tbody tr th:only-of-type {\n",
       "        vertical-align: middle;\n",
       "    }\n",
       "\n",
       "    .dataframe tbody tr th {\n",
       "        vertical-align: top;\n",
       "    }\n",
       "\n",
       "    .dataframe thead th {\n",
       "        text-align: right;\n",
       "    }\n",
       "</style>\n",
       "<table border=\"1\" class=\"dataframe\">\n",
       "  <thead>\n",
       "    <tr style=\"text-align: right;\">\n",
       "      <th></th>\n",
       "      <th></th>\n",
       "      <th>probability</th>\n",
       "    </tr>\n",
       "    <tr>\n",
       "      <th>label</th>\n",
       "      <th>pred</th>\n",
       "      <th></th>\n",
       "    </tr>\n",
       "  </thead>\n",
       "  <tbody>\n",
       "    <tr>\n",
       "      <th rowspan=\"2\" valign=\"top\">0</th>\n",
       "      <th>0</th>\n",
       "      <td>0.200649</td>\n",
       "    </tr>\n",
       "    <tr>\n",
       "      <th>1</th>\n",
       "      <td>0.608859</td>\n",
       "    </tr>\n",
       "    <tr>\n",
       "      <th rowspan=\"2\" valign=\"top\">1</th>\n",
       "      <th>0</th>\n",
       "      <td>0.368820</td>\n",
       "    </tr>\n",
       "    <tr>\n",
       "      <th>1</th>\n",
       "      <td>0.967909</td>\n",
       "    </tr>\n",
       "  </tbody>\n",
       "</table>\n",
       "</div>"
      ],
      "text/plain": [
       "            probability\n",
       "label pred             \n",
       "0     0        0.200649\n",
       "      1        0.608859\n",
       "1     0        0.368820\n",
       "      1        0.967909"
      ]
     },
     "execution_count": 388,
     "metadata": {},
     "output_type": "execute_result"
    }
   ],
   "source": [
    "(\n",
    "    dfprob\n",
    "    .groupby(['label','pred'])\n",
    "    .agg({'probability':'median'})\n",
    ")"
   ]
  },
  {
   "cell_type": "code",
   "execution_count": null,
   "metadata": {},
   "outputs": [],
   "source": [
    "dfprob[lambda x:x['']]"
   ]
  },
  {
   "cell_type": "code",
   "execution_count": 383,
   "metadata": {},
   "outputs": [
    {
     "name": "stdout",
     "output_type": "stream",
     "text": [
      "Number of missclassified: 468\n",
      "Number of missclassified with confidence less than 70%  347\n",
      "Precentage : 0.7414529914529915\n"
     ]
    }
   ],
   "source": [
    "print('Number of missclassified:', len(dfprob.query('(label==1 & pred==0)')))\n",
    "print('Number of missclassified with confidence less than 70% ',len(dfprob.query('(label==1 & pred==0)')[lambda x: x['probability']>.3]))\n",
    "print('Precentage :',len(dfprob.query('(label==1 & pred==0)')[lambda x: x['probability']>.3])/len(dfprob.query('(label==1 & pred==0)')))"
   ]
  },
  {
   "cell_type": "code",
   "execution_count": 382,
   "metadata": {},
   "outputs": [
    {
     "name": "stdout",
     "output_type": "stream",
     "text": [
      "Number of missclassified: 4382\n",
      "Number of missclassified with confidence less than 80%  569\n",
      "Precentage : 0.12984938384299408\n"
     ]
    }
   ],
   "source": [
    "print('Number of missclassified:', len(dfprob.query('(label==1 & pred==1)')))\n",
    "print('Number of missclassified with confidence less than 80% ',len(dfprob.query('(label==1 & pred==1)')[lambda x: x['probability']<.7]))\n",
    "print('Precentage :',len(dfprob.query('(label==1 & pred==1)')[lambda x: x['probability']<.7])/len(dfprob.query('(label==1 & pred==1)')))"
   ]
  },
  {
   "cell_type": "code",
   "execution_count": 385,
   "metadata": {},
   "outputs": [
    {
     "name": "stdout",
     "output_type": "stream",
     "text": [
      "Number of missclassified: 4172\n",
      "Number of missclassified with confidence less than 80%  1136\n",
      "Precentage : 0.2722914669223394\n"
     ]
    }
   ],
   "source": [
    "print('Number of missclassified:', len(dfprob.query('(label==0 & pred==0)')))\n",
    "print('Number of missclassified with confidence less than 80% ',len(dfprob.query('(label==0 & pred==0)')[lambda x: x['probability']>.3]))\n",
    "print('Precentage :',len(dfprob.query('(label==0 & pred==0)')[lambda x: x['probability']>.3])/len(dfprob.query('(label==0 & pred==0)')))"
   ]
  },
  {
   "cell_type": "code",
   "execution_count": 210,
   "metadata": {},
   "outputs": [
    {
     "name": "stdout",
     "output_type": "stream",
     "text": [
      "Number of missclassified: 680\n",
      "Number of missclassified with confidence less than 80%  487\n",
      "Precentage : 0.7161764705882353\n"
     ]
    }
   ],
   "source": [
    "print('Number of missclassified:', len(dfprob.query('(label==0 & pred==1)')))\n",
    "print('Number of missclassified with confidence less than 80% ',len(dfprob.query('(label==0 & pred==1)')[lambda x: x['probability']<.7]))\n",
    "print('Precentage :',len(dfprob.query('(label==0 & pred==1)')[lambda x: x['probability']<.7])/len(dfprob.query('(label==0 & pred==1)')))"
   ]
  },
  {
   "cell_type": "code",
   "execution_count": 322,
   "metadata": {},
   "outputs": [
    {
     "data": {
      "text/plain": [
       "96"
      ]
     },
     "execution_count": 322,
     "metadata": {},
     "output_type": "execute_result"
    }
   ],
   "source": [
    "len(dfprob.query('(label==0 & pred==1)')[lambda x: x['probability']>.15])"
   ]
  },
  {
   "cell_type": "code",
   "execution_count": 320,
   "metadata": {},
   "outputs": [
    {
     "data": {
      "text/plain": [
       "139"
      ]
     },
     "execution_count": 320,
     "metadata": {},
     "output_type": "execute_result"
    }
   ],
   "source": [
    "len(dfprob.query('(label==0 & pred==1)'))"
   ]
  },
  {
   "cell_type": "code",
   "execution_count": 332,
   "metadata": {},
   "outputs": [
    {
     "data": {
      "text/plain": [
       "0.07258485639686683"
      ]
     },
     "execution_count": 332,
     "metadata": {},
     "output_type": "execute_result"
    }
   ],
   "source": [
    "len(dfprob.query('(label==1 & pred==1)')[lambda x: x['probability']>.20])/len(dfprob.query('(label==1 & pred==1)'))"
   ]
  },
  {
   "cell_type": "markdown",
   "metadata": {},
   "source": [
    "## mixed accounts"
   ]
  },
  {
   "cell_type": "code",
   "execution_count": 380,
   "metadata": {},
   "outputs": [],
   "source": [
    "dfmx = (\n",
    "    pandas.read_csv('../../data-raw/all_accounts_comments.csv.gz')\n",
    "    .rename(columns={'class': 'label'})\n",
    "    # Empty comments shouldn't be converted to nan\n",
    "    .rename(columns={'account':'commenter','project':'repository'})\n",
    "    .dropna()\n",
    "    [lambda x:x['label']==2]\n",
    ")"
   ]
  },
  {
   "cell_type": "code",
   "execution_count": 381,
   "metadata": {},
   "outputs": [],
   "source": [
    "my_pred = pipeline.predict(dfmx.comment)\n",
    "my_proba = pipeline.predict_proba(dfmx.comment)"
   ]
  },
  {
   "cell_type": "code",
   "execution_count": 387,
   "metadata": {},
   "outputs": [
    {
     "data": {
      "text/html": [
       "<div>\n",
       "<style scoped>\n",
       "    .dataframe tbody tr th:only-of-type {\n",
       "        vertical-align: middle;\n",
       "    }\n",
       "\n",
       "    .dataframe tbody tr th {\n",
       "        vertical-align: top;\n",
       "    }\n",
       "\n",
       "    .dataframe thead th {\n",
       "        text-align: right;\n",
       "    }\n",
       "</style>\n",
       "<table border=\"1\" class=\"dataframe\">\n",
       "  <thead>\n",
       "    <tr style=\"text-align: right;\">\n",
       "      <th></th>\n",
       "      <th>commenter</th>\n",
       "      <th>repository</th>\n",
       "      <th>comment</th>\n",
       "      <th>label</th>\n",
       "      <th>proba</th>\n",
       "    </tr>\n",
       "    <tr>\n",
       "      <th>pred</th>\n",
       "      <th></th>\n",
       "      <th></th>\n",
       "      <th></th>\n",
       "      <th></th>\n",
       "      <th></th>\n",
       "    </tr>\n",
       "  </thead>\n",
       "  <tbody>\n",
       "    <tr>\n",
       "      <th>0</th>\n",
       "      <td>79</td>\n",
       "      <td>73</td>\n",
       "      <td>2863</td>\n",
       "      <td>1</td>\n",
       "      <td>2719</td>\n",
       "    </tr>\n",
       "    <tr>\n",
       "      <th>1</th>\n",
       "      <td>71</td>\n",
       "      <td>66</td>\n",
       "      <td>956</td>\n",
       "      <td>1</td>\n",
       "      <td>620</td>\n",
       "    </tr>\n",
       "  </tbody>\n",
       "</table>\n",
       "</div>"
      ],
      "text/plain": [
       "      commenter  repository  comment  label  proba\n",
       "pred                                              \n",
       "0            79          73     2863      1   2719\n",
       "1            71          66      956      1    620"
      ]
     },
     "execution_count": 387,
     "metadata": {},
     "output_type": "execute_result"
    }
   ],
   "source": [
    "my_pred = pipeline.predict(dfmx.comment)\n",
    "my_proba = pipeline.predict_proba(dfmx.comment)\n",
    "(\n",
    "    dfmx\n",
    "    .assign(pred=my_pred)\n",
    "    .assign(proba=[i[0] for i in my_proba])\n",
    "    .groupby(['pred']).nunique()\n",
    ")\n"
   ]
  },
  {
   "cell_type": "code",
   "execution_count": 313,
   "metadata": {},
   "outputs": [],
   "source": [
    "ndf = pandas.read_csv('../../data-raw/agreed_labels.csv').assign(label = lambda x: np.where(x['label']=='BOT',1,0))"
   ]
  },
  {
   "cell_type": "code",
   "execution_count": 337,
   "metadata": {},
   "outputs": [
    {
     "data": {
      "text/plain": [
       "(380, 4)"
      ]
     },
     "execution_count": 337,
     "metadata": {},
     "output_type": "execute_result"
    }
   ],
   "source": [
    "ndf.shape"
   ]
  },
  {
   "cell_type": "code",
   "execution_count": 333,
   "metadata": {},
   "outputs": [
    {
     "name": "stdout",
     "output_type": "stream",
     "text": [
      "Number of missclassified: 3\n",
      "Number of missclassified with confidence less than 80%  0\n",
      "Precentage : 0.0\n"
     ]
    }
   ],
   "source": [
    "print('Number of missclassified:', len(ndft.query('(label==1 & pred==0)')))\n",
    "print('Number of missclassified with confidence less than 80% ',len(ndft.query('(label==1 & pred==0)')[lambda x: x['proba']>.70]))\n",
    "print('Precentage :',len(ndft.query('(label==1 & pred==0)')[lambda x: x['proba']>.7])/len(ndft.query('(label==1 & pred==0)')))"
   ]
  },
  {
   "cell_type": "code",
   "execution_count": 334,
   "metadata": {},
   "outputs": [
    {
     "name": "stdout",
     "output_type": "stream",
     "text": [
      "Number of missclassified: 174\n",
      "Number of missclassified with confidence less than 80%  158\n",
      "Precentage : 0.9080459770114943\n"
     ]
    }
   ],
   "source": [
    "print('Number of missclassified:', len(ndft.query('(label==1 & pred==1)')))\n",
    "print('Number of missclassified with confidence less than 80% ',len(ndft.query('(label==1 & pred==1)')[lambda x: x['proba']>.70]))\n",
    "print('Precentage :',len(ndft.query('(label==1 & pred==1)')[lambda x: x['proba']>.70])/len(ndft.query('(label==1 & pred==1)')))"
   ]
  },
  {
   "cell_type": "code",
   "execution_count": 335,
   "metadata": {},
   "outputs": [
    {
     "name": "stdout",
     "output_type": "stream",
     "text": [
      "Number of missclassified: 127\n",
      "Number of missclassified with confidence less than 80%  127\n",
      "Precentage : 1.0\n"
     ]
    }
   ],
   "source": [
    "print('Number of missclassified:', len(ndft.query('(label==0 & pred==0)')))\n",
    "print('Number of missclassified with confidence less than 80% ',len(ndft.query('(label==0 & pred==0)')[lambda x: x['proba']<.80]))\n",
    "print('Precentage :',len(ndft.query('(label==0 & pred==0)')[lambda x: x['proba']<.80])/len(ndft.query('(label==0 & pred==0)')))"
   ]
  },
  {
   "cell_type": "code",
   "execution_count": 336,
   "metadata": {},
   "outputs": [
    {
     "name": "stdout",
     "output_type": "stream",
     "text": [
      "Number of missclassified: 76\n",
      "Number of missclassified with confidence less than 80%  64\n",
      "Precentage : 0.8421052631578947\n"
     ]
    }
   ],
   "source": [
    "print('Number of missclassified:', len(ndft.query('(label==0 & pred==1)')))\n",
    "print('Number of missclassified with confidence less than 80% ',len(ndft.query('(label==0 & pred==1)')[lambda x: x['proba']<.80]))\n",
    "print('Precentage :',len(ndft.query('(label==0 & pred==1)')[lambda x: x['proba']<.80])/len(ndft.query('(label==0 & pred==1)')))"
   ]
  },
  {
   "cell_type": "code",
   "execution_count": 327,
   "metadata": {},
   "outputs": [],
   "source": [
    "my_pred = pipeline.predict(ndf.message)\n",
    "my_proba = pipeline.predict_proba(ndf.message)\n",
    "ndft=(\n",
    "    ndf\n",
    "    .assign(pred=my_pred)\n",
    "    .assign(proba=[1-i[0] for i in my_proba])\n",
    ")"
   ]
  },
  {
   "cell_type": "code",
   "execution_count": 357,
   "metadata": {},
   "outputs": [
    {
     "data": {
      "image/png": "[encoded data removed]",
      "text/plain": [
       "<Figure size 576x216 with 1 Axes>"
      ]
     },
     "metadata": {
      "needs_background": "light"
     },
     "output_type": "display_data"
    }
   ],
   "source": [
    "import seaborn\n",
    "\n",
    "dftmp = (\n",
    "        ndft\n",
    "        .assign(\n",
    "            bot = lambda x: np.where(x['label']==1,'bot','human'),\n",
    "            prediction = lambda x: np.where(x['pred']==1,'bot','human')\n",
    "        )\n",
    "    )\n",
    "\n",
    "fig, ax = plt.subplots(figsize=FIG_SIZE)\n",
    "\n",
    "plt.axvspan(.5, 1, facecolor='b', alpha=0.1)\n",
    "plt.axvspan(0, .5, facecolor='orange', alpha=0.1)\n",
    "\n",
    "\n",
    "ax = seaborn.boxenplot(\n",
    "    x='proba',\n",
    "    y='bot',\n",
    "    data=dftmp,\n",
    ")\n",
    "ax = seaborn.swarmplot(\n",
    "     data=dftmp, x=\"proba\", y=\"bot\", hue='label',size=2,color='black')\n",
    "\n",
    "plt.text(0.27, 1.04,'prediction: human',\n",
    "     horizontalalignment='center',\n",
    "     verticalalignment='center',\n",
    "     transform = ax.transAxes)\n",
    "plt.text(0.73, 1.04,'prediction: bot',\n",
    "     horizontalalignment='center',\n",
    "     verticalalignment='center',\n",
    "     transform = ax.transAxes)\n",
    "\n",
    "ax.set_xlabel('probability of predictions')\n",
    "ax.set_ylabel('')\n",
    "ax.legend(labels=[])\n",
    "# ax.get_legend().remove()\n",
    "# ax.set_ylim(-.05,1.05)\n",
    "ax.vlines(0.5, -0.5, 1.5, colors='r', alpha=0.2)\n",
    "fig.savefig('figures/predictionmixed.pdf',bbox_inches='tight')"
   ]
  },
  {
   "cell_type": "code",
   "execution_count": 338,
   "metadata": {},
   "outputs": [],
   "source": [
    "results = {'test': dict()}\n",
    "\n",
    "for name, scorer in scoring.items():\n",
    "    results['test'][name] = scorer(pipeline, ndf.message, ndf.label)"
   ]
  },
  {
   "cell_type": "code",
   "execution_count": 339,
   "metadata": {},
   "outputs": [
    {
     "data": {
      "text/html": [
       "<div>\n",
       "<style scoped>\n",
       "    .dataframe tbody tr th:only-of-type {\n",
       "        vertical-align: middle;\n",
       "    }\n",
       "\n",
       "    .dataframe tbody tr th {\n",
       "        vertical-align: top;\n",
       "    }\n",
       "\n",
       "    .dataframe thead th {\n",
       "        text-align: right;\n",
       "    }\n",
       "</style>\n",
       "<table border=\"1\" class=\"dataframe\">\n",
       "  <thead>\n",
       "    <tr style=\"text-align: right;\">\n",
       "      <th></th>\n",
       "      <th>accuracy</th>\n",
       "      <th>f1</th>\n",
       "      <th>f1_bot</th>\n",
       "      <th>f1_human</th>\n",
       "      <th>precision</th>\n",
       "      <th>precision_bot</th>\n",
       "      <th>precision_human</th>\n",
       "      <th>recall</th>\n",
       "      <th>recall_bot</th>\n",
       "      <th>recall_human</th>\n",
       "    </tr>\n",
       "  </thead>\n",
       "  <tbody>\n",
       "    <tr>\n",
       "      <th>test</th>\n",
       "      <td>0.792105</td>\n",
       "      <td>0.787089</td>\n",
       "      <td>0.814988</td>\n",
       "      <td>0.762763</td>\n",
       "      <td>0.846072</td>\n",
       "      <td>0.696</td>\n",
       "      <td>0.976923</td>\n",
       "      <td>0.792105</td>\n",
       "      <td>0.983051</td>\n",
       "      <td>0.625616</td>\n",
       "    </tr>\n",
       "  </tbody>\n",
       "</table>\n",
       "</div>"
      ],
      "text/plain": [
       "      accuracy        f1    f1_bot  f1_human  precision  precision_bot  \\\n",
       "test  0.792105  0.787089  0.814988  0.762763   0.846072          0.696   \n",
       "\n",
       "      precision_human    recall  recall_bot  recall_human  \n",
       "test         0.976923  0.792105    0.983051      0.625616  "
      ]
     },
     "execution_count": 339,
     "metadata": {},
     "output_type": "execute_result"
    }
   ],
   "source": [
    "(\n",
    "    pandas.DataFrame.from_dict(results)\n",
    "    .T\n",
    ")"
   ]
  },
  {
   "cell_type": "code",
   "execution_count": null,
   "metadata": {},
   "outputs": [],
   "source": [
    "# Wont remove duplicates\n",
    "# split the dataset comments belonging to the same account will not spread in the train and test set"
   ]
  },
  {
   "cell_type": "code",
   "execution_count": 230,
   "metadata": {},
   "outputs": [
    {
     "name": "stdout",
     "output_type": "stream",
     "text": [
      "              precision    recall  f1-score   support\n",
      "\n",
      "           0       0.97      0.82      0.89      5546\n",
      "           1       0.80      0.96      0.87      3969\n",
      "\n",
      "    accuracy                           0.88      9515\n",
      "   macro avg       0.88      0.89      0.88      9515\n",
      "weighted avg       0.90      0.88      0.88      9515\n",
      "\n"
     ]
    }
   ],
   "source": [
    "from sklearn.metrics import classification_report\n",
    "\n",
    "print(classification_report(y_pred,y_test))"
   ]
  },
  {
   "cell_type": "code",
   "execution_count": 244,
   "metadata": {},
   "outputs": [
    {
     "name": "stdout",
     "output_type": "stream",
     "text": [
      "p =  0  v=  0  ->  4574\n",
      "p =  0  v=  1  ->  972\n",
      "p =  1  v=  0  ->  139\n",
      "p =  1  v=  1  ->  3830\n"
     ]
    }
   ],
   "source": [
    "p = [0,1]\n",
    "v = [0,1]\n",
    "\n",
    "for i in p:\n",
    "    for j in v:\n",
    "        print('p = ',i,' v= ',j,' -> ',\n",
    "              len(\n",
    "            df[~df.training]\n",
    "            .drop(columns=['training'])\n",
    "            .assign(pred=y_pred)\n",
    "            .query('(label=='+str(j)+' & pred=='+str(i)+')')\n",
    "        ))\n",
    "        "
   ]
  },
  {
   "cell_type": "code",
   "execution_count": 234,
   "metadata": {},
   "outputs": [
    {
     "data": {
      "text/plain": [
       "1    4802\n",
       "0    4713\n",
       "Name: label, dtype: int64"
      ]
     },
     "execution_count": 234,
     "metadata": {},
     "output_type": "execute_result"
    }
   ],
   "source": [
    "y_test.value_counts()"
   ]
  },
  {
   "cell_type": "code",
   "execution_count": 345,
   "metadata": {},
   "outputs": [],
   "source": [
    "from scipy.stats import mannwhitneyu\n",
    "\n",
    "def cliffsDelta(lst1, lst2, **dull):\n",
    "\n",
    "    \"\"\"Returns delta and true if there are more than 'dull' differences\"\"\"\n",
    "    if not dull:\n",
    "        dull = {'small': 0.147, 'medium': 0.33, 'large': 0.474} # effect sizes from (Hess and Kromrey, 2004)\n",
    "    m, n = len(lst1), len(lst2)\n",
    "    lst2 = sorted(lst2)\n",
    "    j = more = less = 0\n",
    "    for repeats, x in runs(sorted(lst1)):\n",
    "        while j <= (n - 1) and lst2[j] < x:\n",
    "            j += 1\n",
    "        more += j*repeats\n",
    "        while j <= (n - 1) and lst2[j] == x:\n",
    "            j += 1\n",
    "        less += (n - j)*repeats\n",
    "    d = (more - less) / (m*n)\n",
    "    size = lookup_size(d, dull)\n",
    "    return d, size\n",
    "\n",
    "\n",
    "def lookup_size(delta: float, dull: dict) -> str:\n",
    "    \"\"\"\n",
    "    :type delta: float\n",
    "    :type dull: dict, a dictionary of small, medium, large thresholds.\n",
    "    \"\"\"\n",
    "    delta = abs(delta)\n",
    "    if delta < dull['small']:\n",
    "        return 'negligible'\n",
    "    if dull['small'] <= delta < dull['medium']:\n",
    "        return 'small'\n",
    "    if dull['medium'] <= delta < dull['large']:\n",
    "        return 'medium'\n",
    "    if delta >= dull['large']:\n",
    "        return 'large'\n",
    "\n",
    "\n",
    "def runs(lst):\n",
    "    \"\"\"Iterator, chunks repeated values\"\"\"\n",
    "    for j, two in enumerate(lst):\n",
    "        if j == 0:\n",
    "            one, i = two, 0\n",
    "        if one != two:\n",
    "            yield j - i, one\n",
    "            i = j\n",
    "        one = two\n",
    "    yield j - i + 1, two"
   ]
  },
  {
   "cell_type": "code",
   "execution_count": 354,
   "metadata": {},
   "outputs": [],
   "source": [
    "data=(\n",
    "        dfprob\n",
    "        .assign(\n",
    "            cmlength = lambda x: x['comment'].str.len(), \n",
    "        )\n",
    "    )"
   ]
  },
  {
   "cell_type": "code",
   "execution_count": 356,
   "metadata": {},
   "outputs": [
    {
     "name": "stdout",
     "output_type": "stream",
     "text": [
      "Effect size Cliffs Delta:  (0.02203312307146173, 'negligible')\n",
      "MannwhitneyuResult(statistic=1002795.5, pvalue=0.21631247293311684)\n",
      "MannwhitneyuResult(statistic=1023760.5, pvalue=1.1036228665989487e-31)\n",
      "Effect size Cliffs Delta:  (0.2782693446506119, 'small')\n"
     ]
    }
   ],
   "source": [
    "p1 = data[lambda x: (x['label']==x['pred']) & (x['label']==1)].cmlength\n",
    "p2 = data[lambda x: (x['label']!=x['pred']) & (x['label']==1)].cmlength\n",
    "print(\"Effect size Cliffs Delta: \",cliffsDelta(p1,p2))\n",
    "\n",
    "print(mannwhitneyu(p1,p2))\n",
    "\n",
    "p3 = data[lambda x: (x['label']==x['pred']) & (x['label']==0)].cmlength\n",
    "p4 = data[lambda x: (x['label']!=x['pred']) & (x['label']==0)].cmlength\n",
    "\n",
    "print(mannwhitneyu(p3,p4))\n",
    "print(\"Effect size Cliffs Delta: \",cliffsDelta(p3,p4))\n"
   ]
  },
  {
   "cell_type": "code",
   "execution_count": 353,
   "metadata": {},
   "outputs": [
    {
     "data": {
      "text/html": [
       "<div>\n",
       "<style scoped>\n",
       "    .dataframe tbody tr th:only-of-type {\n",
       "        vertical-align: middle;\n",
       "    }\n",
       "\n",
       "    .dataframe tbody tr th {\n",
       "        vertical-align: top;\n",
       "    }\n",
       "\n",
       "    .dataframe thead th {\n",
       "        text-align: right;\n",
       "    }\n",
       "</style>\n",
       "<table border=\"1\" class=\"dataframe\">\n",
       "  <thead>\n",
       "    <tr style=\"text-align: right;\">\n",
       "      <th></th>\n",
       "      <th>index</th>\n",
       "      <th>commenter</th>\n",
       "      <th>repository</th>\n",
       "      <th>comment</th>\n",
       "      <th>label</th>\n",
       "      <th>pred</th>\n",
       "      <th>probability</th>\n",
       "      <th>bot</th>\n",
       "      <th>prediction</th>\n",
       "      <th>cmlength</th>\n",
       "      <th>predtype</th>\n",
       "    </tr>\n",
       "  </thead>\n",
       "  <tbody>\n",
       "    <tr>\n",
       "      <th>9653</th>\n",
       "      <td>143026</td>\n",
       "      <td>TrySound</td>\n",
       "      <td>acdlite/recompose</td>\n",
       "      <td>I think this is not relevant.\\r\\n\\r\\nhttps://g...</td>\n",
       "      <td>0</td>\n",
       "      <td>1</td>\n",
       "      <td>0.540107</td>\n",
       "      <td>human incorrect</td>\n",
       "      <td>bot</td>\n",
       "      <td>109</td>\n",
       "      <td>incorrect predictions</td>\n",
       "    </tr>\n",
       "    <tr>\n",
       "      <th>9654</th>\n",
       "      <td>307259</td>\n",
       "      <td>ReToCode</td>\n",
       "      <td>SchweizerischeBundesbahnen/scion-workbench</td>\n",
       "      <td>fixes #94\\r\\n\\r\\n## PR Checklist\\r\\nPlease che...</td>\n",
       "      <td>0</td>\n",
       "      <td>1</td>\n",
       "      <td>0.670094</td>\n",
       "      <td>human incorrect</td>\n",
       "      <td>bot</td>\n",
       "      <td>783</td>\n",
       "      <td>incorrect predictions</td>\n",
       "    </tr>\n",
       "    <tr>\n",
       "      <th>9659</th>\n",
       "      <td>73490</td>\n",
       "      <td>mmews-n4</td>\n",
       "      <td>NumberFour/n4jsd</td>\n",
       "      <td>see https://github.com/eclipse/n4js/issues/821</td>\n",
       "      <td>0</td>\n",
       "      <td>1</td>\n",
       "      <td>0.571608</td>\n",
       "      <td>human incorrect</td>\n",
       "      <td>bot</td>\n",
       "      <td>46</td>\n",
       "      <td>incorrect predictions</td>\n",
       "    </tr>\n",
       "    <tr>\n",
       "      <th>9668</th>\n",
       "      <td>250474</td>\n",
       "      <td>axten</td>\n",
       "      <td>nikita-kit/generator-nikita</td>\n",
       "      <td>https://github.com/RealFaviconGenerator/grunt-...</td>\n",
       "      <td>0</td>\n",
       "      <td>1</td>\n",
       "      <td>0.677718</td>\n",
       "      <td>human incorrect</td>\n",
       "      <td>bot</td>\n",
       "      <td>58</td>\n",
       "      <td>incorrect predictions</td>\n",
       "    </tr>\n",
       "    <tr>\n",
       "      <th>9671</th>\n",
       "      <td>169815</td>\n",
       "      <td>pgarbe</td>\n",
       "      <td>Scout24/autostacker24</td>\n",
       "      <td>#24 merged\\n</td>\n",
       "      <td>0</td>\n",
       "      <td>1</td>\n",
       "      <td>0.511395</td>\n",
       "      <td>human incorrect</td>\n",
       "      <td>bot</td>\n",
       "      <td>11</td>\n",
       "      <td>incorrect predictions</td>\n",
       "    </tr>\n",
       "    <tr>\n",
       "      <th>...</th>\n",
       "      <td>...</td>\n",
       "      <td>...</td>\n",
       "      <td>...</td>\n",
       "      <td>...</td>\n",
       "      <td>...</td>\n",
       "      <td>...</td>\n",
       "      <td>...</td>\n",
       "      <td>...</td>\n",
       "      <td>...</td>\n",
       "      <td>...</td>\n",
       "      <td>...</td>\n",
       "    </tr>\n",
       "    <tr>\n",
       "      <th>19217</th>\n",
       "      <td>49023</td>\n",
       "      <td>BenoitZugmeyer</td>\n",
       "      <td>keymetrics/pm2-io-js-api</td>\n",
       "      <td>The HTTP headers were not updated with the new...</td>\n",
       "      <td>0</td>\n",
       "      <td>1</td>\n",
       "      <td>0.514602</td>\n",
       "      <td>human incorrect</td>\n",
       "      <td>bot</td>\n",
       "      <td>116</td>\n",
       "      <td>incorrect predictions</td>\n",
       "    </tr>\n",
       "    <tr>\n",
       "      <th>19224</th>\n",
       "      <td>124369</td>\n",
       "      <td>jeromegamez</td>\n",
       "      <td>kreait/firebase-php</td>\n",
       "      <td>Thanks for the... Notification 😅\\n\\nUntil this...</td>\n",
       "      <td>0</td>\n",
       "      <td>1</td>\n",
       "      <td>0.556952</td>\n",
       "      <td>human incorrect</td>\n",
       "      <td>bot</td>\n",
       "      <td>136</td>\n",
       "      <td>incorrect predictions</td>\n",
       "    </tr>\n",
       "    <tr>\n",
       "      <th>19228</th>\n",
       "      <td>144522</td>\n",
       "      <td>kharanenka</td>\n",
       "      <td>oc-shopaholic/oc-shopaholic-plugin</td>\n",
       "      <td>Hi! onAjaxRequest method is not needed because...</td>\n",
       "      <td>0</td>\n",
       "      <td>1</td>\n",
       "      <td>0.539535</td>\n",
       "      <td>human incorrect</td>\n",
       "      <td>bot</td>\n",
       "      <td>209</td>\n",
       "      <td>incorrect predictions</td>\n",
       "    </tr>\n",
       "    <tr>\n",
       "      <th>19239</th>\n",
       "      <td>33755</td>\n",
       "      <td>grant-d</td>\n",
       "      <td>k2workflow/Clay</td>\n",
       "      <td>- `RandomExtensions`\\r\\n- `NumericExtensions`\\...</td>\n",
       "      <td>0</td>\n",
       "      <td>1</td>\n",
       "      <td>0.514023</td>\n",
       "      <td>human incorrect</td>\n",
       "      <td>bot</td>\n",
       "      <td>177</td>\n",
       "      <td>incorrect predictions</td>\n",
       "    </tr>\n",
       "    <tr>\n",
       "      <th>19266</th>\n",
       "      <td>175113</td>\n",
       "      <td>crookedneighbor</td>\n",
       "      <td>braintree/android-card-form</td>\n",
       "      <td>Thanks for the report. We'll pass this feedbac...</td>\n",
       "      <td>0</td>\n",
       "      <td>1</td>\n",
       "      <td>0.516205</td>\n",
       "      <td>human incorrect</td>\n",
       "      <td>bot</td>\n",
       "      <td>75</td>\n",
       "      <td>incorrect predictions</td>\n",
       "    </tr>\n",
       "  </tbody>\n",
       "</table>\n",
       "<p>680 rows × 11 columns</p>\n",
       "</div>"
      ],
      "text/plain": [
       "        index        commenter                                  repository  \\\n",
       "9653   143026         TrySound                           acdlite/recompose   \n",
       "9654   307259         ReToCode  SchweizerischeBundesbahnen/scion-workbench   \n",
       "9659    73490         mmews-n4                            NumberFour/n4jsd   \n",
       "9668   250474            axten                 nikita-kit/generator-nikita   \n",
       "9671   169815           pgarbe                       Scout24/autostacker24   \n",
       "...       ...              ...                                         ...   \n",
       "19217   49023   BenoitZugmeyer                    keymetrics/pm2-io-js-api   \n",
       "19224  124369      jeromegamez                         kreait/firebase-php   \n",
       "19228  144522       kharanenka          oc-shopaholic/oc-shopaholic-plugin   \n",
       "19239   33755          grant-d                             k2workflow/Clay   \n",
       "19266  175113  crookedneighbor                 braintree/android-card-form   \n",
       "\n",
       "                                                 comment  label  pred  \\\n",
       "9653   I think this is not relevant.\\r\\n\\r\\nhttps://g...      0     1   \n",
       "9654   fixes #94\\r\\n\\r\\n## PR Checklist\\r\\nPlease che...      0     1   \n",
       "9659      see https://github.com/eclipse/n4js/issues/821      0     1   \n",
       "9668   https://github.com/RealFaviconGenerator/grunt-...      0     1   \n",
       "9671                                        #24 merged\\n      0     1   \n",
       "...                                                  ...    ...   ...   \n",
       "19217  The HTTP headers were not updated with the new...      0     1   \n",
       "19224  Thanks for the... Notification 😅\\n\\nUntil this...      0     1   \n",
       "19228  Hi! onAjaxRequest method is not needed because...      0     1   \n",
       "19239  - `RandomExtensions`\\r\\n- `NumericExtensions`\\...      0     1   \n",
       "19266  Thanks for the report. We'll pass this feedbac...      0     1   \n",
       "\n",
       "       probability              bot prediction  cmlength  \\\n",
       "9653      0.540107  human incorrect        bot       109   \n",
       "9654      0.670094  human incorrect        bot       783   \n",
       "9659      0.571608  human incorrect        bot        46   \n",
       "9668      0.677718  human incorrect        bot        58   \n",
       "9671      0.511395  human incorrect        bot        11   \n",
       "...            ...              ...        ...       ...   \n",
       "19217     0.514602  human incorrect        bot       116   \n",
       "19224     0.556952  human incorrect        bot       136   \n",
       "19228     0.539535  human incorrect        bot       209   \n",
       "19239     0.514023  human incorrect        bot       177   \n",
       "19266     0.516205  human incorrect        bot        75   \n",
       "\n",
       "                    predtype  \n",
       "9653   incorrect predictions  \n",
       "9654   incorrect predictions  \n",
       "9659   incorrect predictions  \n",
       "9668   incorrect predictions  \n",
       "9671   incorrect predictions  \n",
       "...                      ...  \n",
       "19217  incorrect predictions  \n",
       "19224  incorrect predictions  \n",
       "19228  incorrect predictions  \n",
       "19239  incorrect predictions  \n",
       "19266  incorrect predictions  \n",
       "\n",
       "[680 rows x 11 columns]"
      ]
     },
     "execution_count": 353,
     "metadata": {},
     "output_type": "execute_result"
    }
   ],
   "source": [
    "data[lambda x: (x['label']!=x['pred']) & (x['label']==0)]"
   ]
  },
  {
   "cell_type": "code",
   "execution_count": null,
   "metadata": {},
   "outputs": [],
   "source": []
  }
 ],
 "metadata": {
  "kernelspec": {
   "display_name": "Python 3",
   "language": "python",
   "name": "python3"
  },
  "language_info": {
   "codemirror_mode": {
    "name": "ipython",
    "version": 3
   },
   "file_extension": ".py",
   "mimetype": "text/x-python",
   "name": "python",
   "nbconvert_exporter": "python",
   "pygments_lexer": "ipython3",
   "version": "3.8.5"
  }
 },
 "nbformat": 4,
 "nbformat_minor": 4
}

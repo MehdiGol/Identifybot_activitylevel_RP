{
 "cells": [
  {
   "cell_type": "code",
   "execution_count": 1,
   "metadata": {},
   "outputs": [],
   "source": [
    "import pandas\n",
    "import numpy as np"
   ]
  },
  {
   "cell_type": "code",
   "execution_count": 2,
   "metadata": {},
   "outputs": [],
   "source": [
    "SEED = 12345"
   ]
  },
  {
   "cell_type": "markdown",
   "metadata": {},
   "source": [
    "## Dataset\n",
    "\n",
    "We rely on a ground-truth dataset provided by Golzadeh et al. The dataset contains around 5,000 accounts that were manually identified as bots or humans by three raters. The rating application displayed the most recent comments made by each account, and a decision had to be made based on these comments. By default, and if there are enough comments, the 20 most recent ones are displayed. \n",
    "\n",
    "In their work, a label (bot or human) is attributed to each account based on these comments. Since our goal is to work at the granularity of the comments and not of the accounts, we asked them to send, for accounts that have at least 20 comments, the ones that were displayed to the raters. The idea is that since these comments were the basis to made a decision about these accounts, it is very likely that the comments belonging to a bot (resp. to a human) were made by a bot (resp. by a human)."
   ]
  },
  {
   "cell_type": "code",
   "execution_count": 5,
   "metadata": {},
   "outputs": [],
   "source": [
    "df = (\n",
    "    pandas.read_csv('../data-raw/comments.csv.gz')\n",
    ")"
   ]
  },
  {
   "cell_type": "code",
   "execution_count": 6,
   "metadata": {},
   "outputs": [
    {
     "data": {
      "text/html": [
       "<div>\n",
       "<style scoped>\n",
       "    .dataframe tbody tr th:only-of-type {\n",
       "        vertical-align: middle;\n",
       "    }\n",
       "\n",
       "    .dataframe tbody tr th {\n",
       "        vertical-align: top;\n",
       "    }\n",
       "\n",
       "    .dataframe thead th {\n",
       "        text-align: right;\n",
       "    }\n",
       "</style>\n",
       "<table border=\"1\" class=\"dataframe\">\n",
       "  <thead>\n",
       "    <tr style=\"text-align: right;\">\n",
       "      <th></th>\n",
       "      <th>commenter</th>\n",
       "      <th>comment</th>\n",
       "      <th>label</th>\n",
       "    </tr>\n",
       "  </thead>\n",
       "  <tbody>\n",
       "    <tr>\n",
       "      <th>18401</th>\n",
       "      <td>b'wYeBGdDRbOzwxtkFiKTPeg=='</td>\n",
       "      <td>Testing:\\r\\n- `npm run test-e2e`: passed\\r\\n- ...</td>\n",
       "      <td>Human</td>\n",
       "    </tr>\n",
       "    <tr>\n",
       "      <th>10684</th>\n",
       "      <td>b'ryMz7+sTtRIpb4Gcvm5llw=='</td>\n",
       "      <td>For the latest 1.6 release, I merged a few ver...</td>\n",
       "      <td>Human</td>\n",
       "    </tr>\n",
       "    <tr>\n",
       "      <th>6964</th>\n",
       "      <td>b'MSuTYRBQJS0vUYVvktWfXQ=='</td>\n",
       "      <td>GitHub reverse integration Pull Request for co...</td>\n",
       "      <td>Bot</td>\n",
       "    </tr>\n",
       "    <tr>\n",
       "      <th>9206</th>\n",
       "      <td>b'Kvb12/QOb5z1r/z1gmG5fQ=='</td>\n",
       "      <td>@pbteja1998 Hello from Gitcoin Core - are you ...</td>\n",
       "      <td>Bot</td>\n",
       "    </tr>\n",
       "    <tr>\n",
       "      <th>4661</th>\n",
       "      <td>b'7DgHJyohvrYD6EgXaCS7Ug=='</td>\n",
       "      <td>**Build failed**\\n[Swift Test OS X Platform](h...</td>\n",
       "      <td>Bot</td>\n",
       "    </tr>\n",
       "    <tr>\n",
       "      <th>3487</th>\n",
       "      <td>b'c+RTfnO9yWMJsuqS8tNiEw=='</td>\n",
       "      <td>This pull request is not suitable for automati...</td>\n",
       "      <td>Bot</td>\n",
       "    </tr>\n",
       "    <tr>\n",
       "      <th>1672</th>\n",
       "      <td>b'vGW+/s2flqimoAvtAIKsMQ=='</td>\n",
       "      <td>Closing obsolete PR.</td>\n",
       "      <td>Bot</td>\n",
       "    </tr>\n",
       "    <tr>\n",
       "      <th>5107</th>\n",
       "      <td>b'wW7Bo+Sq0Nf7aLBGuNvGtA=='</td>\n",
       "      <td>Test live: https://calypso.live/?branch=add/co...</td>\n",
       "      <td>Bot</td>\n",
       "    </tr>\n",
       "    <tr>\n",
       "      <th>17936</th>\n",
       "      <td>b'L1cD+/A284M3kcu9j+ToXw=='</td>\n",
       "      <td>### Issue Description\\r\\n\\r\\nHi there, I'm get...</td>\n",
       "      <td>Human</td>\n",
       "    </tr>\n",
       "    <tr>\n",
       "      <th>6723</th>\n",
       "      <td>b'Me7LHfdo+lkhHQZRaKK3hQ=='</td>\n",
       "      <td>\\n&lt;!--\\n  0 failure: \\n  3 warning:  Please ad...</td>\n",
       "      <td>Bot</td>\n",
       "    </tr>\n",
       "  </tbody>\n",
       "</table>\n",
       "</div>"
      ],
      "text/plain": [
       "                         commenter  \\\n",
       "18401  b'wYeBGdDRbOzwxtkFiKTPeg=='   \n",
       "10684  b'ryMz7+sTtRIpb4Gcvm5llw=='   \n",
       "6964   b'MSuTYRBQJS0vUYVvktWfXQ=='   \n",
       "9206   b'Kvb12/QOb5z1r/z1gmG5fQ=='   \n",
       "4661   b'7DgHJyohvrYD6EgXaCS7Ug=='   \n",
       "3487   b'c+RTfnO9yWMJsuqS8tNiEw=='   \n",
       "1672   b'vGW+/s2flqimoAvtAIKsMQ=='   \n",
       "5107   b'wW7Bo+Sq0Nf7aLBGuNvGtA=='   \n",
       "17936  b'L1cD+/A284M3kcu9j+ToXw=='   \n",
       "6723   b'Me7LHfdo+lkhHQZRaKK3hQ=='   \n",
       "\n",
       "                                                 comment  label  \n",
       "18401  Testing:\\r\\n- `npm run test-e2e`: passed\\r\\n- ...  Human  \n",
       "10684  For the latest 1.6 release, I merged a few ver...  Human  \n",
       "6964   GitHub reverse integration Pull Request for co...    Bot  \n",
       "9206   @pbteja1998 Hello from Gitcoin Core - are you ...    Bot  \n",
       "4661   **Build failed**\\n[Swift Test OS X Platform](h...    Bot  \n",
       "3487   This pull request is not suitable for automati...    Bot  \n",
       "1672                                Closing obsolete PR.    Bot  \n",
       "5107   Test live: https://calypso.live/?branch=add/co...    Bot  \n",
       "17936  ### Issue Description\\r\\n\\r\\nHi there, I'm get...  Human  \n",
       "6723   \\n<!--\\n  0 failure: \\n  3 warning:  Please ad...    Bot  "
      ]
     },
     "execution_count": 6,
     "metadata": {},
     "output_type": "execute_result"
    }
   ],
   "source": [
    "df.sample(n=10, random_state=SEED)"
   ]
  },
  {
   "cell_type": "code",
   "execution_count": 7,
   "metadata": {},
   "outputs": [],
   "source": [
    "df = (\n",
    "    df\n",
    "    .assign(training=lambda d: d['commenter'].isin(\n",
    "        df\n",
    "        # Group per class\n",
    "        .groupby('label', as_index=False, sort=False)\n",
    "        .apply(lambda g: \n",
    "            g\n",
    "            .drop_duplicates('commenter')\n",
    "            .sample(frac=0.5, random_state=SEED)\n",
    "            .commenter\n",
    "        )\n",
    "    ))\n",
    ")"
   ]
  },
  {
   "cell_type": "code",
   "execution_count": 9,
   "metadata": {},
   "outputs": [
    {
     "data": {
      "text/html": [
       "<div>\n",
       "<style scoped>\n",
       "    .dataframe tbody tr th:only-of-type {\n",
       "        vertical-align: middle;\n",
       "    }\n",
       "\n",
       "    .dataframe tbody tr th {\n",
       "        vertical-align: top;\n",
       "    }\n",
       "\n",
       "    .dataframe thead th {\n",
       "        text-align: right;\n",
       "    }\n",
       "</style>\n",
       "<table border=\"1\" class=\"dataframe\">\n",
       "  <thead>\n",
       "    <tr style=\"text-align: right;\">\n",
       "      <th></th>\n",
       "      <th>comment</th>\n",
       "      <th>commenter</th>\n",
       "    </tr>\n",
       "    <tr>\n",
       "      <th>label</th>\n",
       "      <th></th>\n",
       "      <th></th>\n",
       "    </tr>\n",
       "  </thead>\n",
       "  <tbody>\n",
       "    <tr>\n",
       "      <th>Bot</th>\n",
       "      <td>9641</td>\n",
       "      <td>519</td>\n",
       "    </tr>\n",
       "    <tr>\n",
       "      <th>Human</th>\n",
       "      <td>9641</td>\n",
       "      <td>4090</td>\n",
       "    </tr>\n",
       "  </tbody>\n",
       "</table>\n",
       "</div>"
      ],
      "text/plain": [
       "       comment  commenter\n",
       "label                    \n",
       "Bot       9641        519\n",
       "Human     9641       4090"
      ]
     },
     "execution_count": 9,
     "metadata": {},
     "output_type": "execute_result"
    }
   ],
   "source": [
    "(\n",
    "    df\n",
    "    .groupby(['label'])\n",
    "    .agg({'comment':'count','commenter':'nunique'})\n",
    ")"
   ]
  },
  {
   "cell_type": "code",
   "execution_count": 10,
   "metadata": {},
   "outputs": [],
   "source": [
    "df['label'] = (df['label'] == 'Bot').astype(int)"
   ]
  },
  {
   "cell_type": "code",
   "execution_count": 12,
   "metadata": {},
   "outputs": [],
   "source": [
    "df[df.training].to_csv('../data/df_training.csv.gz',index=False)\n",
    "df[~df.training].to_csv('../data/df_test.csv.gz',index=False)"
   ]
  }
 ],
 "metadata": {
  "kernelspec": {
   "display_name": "Python 3",
   "language": "python",
   "name": "python3"
  },
  "language_info": {
   "codemirror_mode": {
    "name": "ipython",
    "version": 3
   },
   "file_extension": ".py",
   "mimetype": "text/x-python",
   "name": "python",
   "nbconvert_exporter": "python",
   "pygments_lexer": "ipython3",
   "version": "3.8.5"
  }
 },
 "nbformat": 4,
 "nbformat_minor": 4
}
